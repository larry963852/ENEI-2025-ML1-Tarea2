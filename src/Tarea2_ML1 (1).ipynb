{
  "nbformat": 4,
  "nbformat_minor": 0,
  "metadata": {
    "colab": {
      "provenance": []
    },
    "kernelspec": {
      "name": "python3",
      "display_name": "Python 3"
    },
    "language_info": {
      "name": "python"
    }
  },
  "cells": [
    {
      "cell_type": "markdown",
      "source": [
        "# TAREA 2 - MACHINE LEARNING 1\n",
        "## LOGISTIC REGRESSION AND MULTICLASS EXTENSIONS\n",
        "\n"
      ],
      "metadata": {
        "id": "HIrdFELx5mWP"
      }
    },
    {
      "cell_type": "markdown",
      "source": [
        "INTEGRANTES:\n",
        "\n",
        "\n",
        "1.   Chamorro Alva, Melvin\n",
        "2.   Garcia Iraita, Lucy\n",
        "\n",
        "\n",
        "1.   Luna Carrera, Marisol\n",
        "\n",
        "\n",
        "\n"
      ],
      "metadata": {
        "id": "lm15BpjyU6zJ"
      }
    },
    {
      "cell_type": "markdown",
      "source": [
        "### PARTE A: BINARY LOGISTIC REGRESSION FROM SCRATCH"
      ],
      "metadata": {
        "id": "6JwI40zJ7kgX"
      }
    },
    {
      "cell_type": "markdown",
      "source": [
        "#### PREPARANDO LOS DATOS"
      ],
      "metadata": {
        "id": "2dgMlZ5nT-AS"
      }
    },
    {
      "cell_type": "markdown",
      "source": [
        "Para empezar, cargaremos la base de datos de enfermedades cardíacas del repositorio de la UCI ejecutando:"
      ],
      "metadata": {
        "id": "d7rdiVZo73hq"
      }
    },
    {
      "cell_type": "code",
      "source": [
        "!pip install ucimlrepo\n",
        "\n",
        "from ucimlrepo import fetch_ucirepo\n",
        "\n",
        "heart_disease = fetch_ucirepo(id = 45)\n",
        "X = heart_disease.data.features # features\n",
        "Y = heart_disease.data.targets # heart disease diagnosis"
      ],
      "metadata": {
        "colab": {
          "base_uri": "https://localhost:8080/"
        },
        "id": "swkd7Zem8Qke",
        "outputId": "45351a73-9de6-4589-f598-bc793337f4b7"
      },
      "execution_count": 178,
      "outputs": [
        {
          "output_type": "stream",
          "name": "stdout",
          "text": [
            "Requirement already satisfied: ucimlrepo in /usr/local/lib/python3.12/dist-packages (0.0.7)\n",
            "Requirement already satisfied: pandas>=1.0.0 in /usr/local/lib/python3.12/dist-packages (from ucimlrepo) (2.2.2)\n",
            "Requirement already satisfied: certifi>=2020.12.5 in /usr/local/lib/python3.12/dist-packages (from ucimlrepo) (2025.10.5)\n",
            "Requirement already satisfied: numpy>=1.26.0 in /usr/local/lib/python3.12/dist-packages (from pandas>=1.0.0->ucimlrepo) (2.0.2)\n",
            "Requirement already satisfied: python-dateutil>=2.8.2 in /usr/local/lib/python3.12/dist-packages (from pandas>=1.0.0->ucimlrepo) (2.9.0.post0)\n",
            "Requirement already satisfied: pytz>=2020.1 in /usr/local/lib/python3.12/dist-packages (from pandas>=1.0.0->ucimlrepo) (2025.2)\n",
            "Requirement already satisfied: tzdata>=2022.7 in /usr/local/lib/python3.12/dist-packages (from pandas>=1.0.0->ucimlrepo) (2025.2)\n",
            "Requirement already satisfied: six>=1.5 in /usr/local/lib/python3.12/dist-packages (from python-dateutil>=2.8.2->pandas>=1.0.0->ucimlrepo) (1.17.0)\n"
          ]
        }
      ]
    },
    {
      "cell_type": "markdown",
      "source": [
        "A continuación, procederemos a observar los valores únicos y la frecuencia de la variable Y:"
      ],
      "metadata": {
        "id": "YZLFm0yt__BZ"
      }
    },
    {
      "cell_type": "code",
      "source": [
        "import pandas as pd\n",
        "print(\"Clases de la variable Y:\")\n",
        "print(Y.value_counts().sort_index())"
      ],
      "metadata": {
        "colab": {
          "base_uri": "https://localhost:8080/"
        },
        "id": "xmxhtrQrAJVc",
        "outputId": "c4fd4226-3052-4343-b3cb-6eb51537c6c8"
      },
      "execution_count": 179,
      "outputs": [
        {
          "output_type": "stream",
          "name": "stdout",
          "text": [
            "Clases de la variable Y:\n",
            "num\n",
            "0      164\n",
            "1       55\n",
            "2       36\n",
            "3       35\n",
            "4       13\n",
            "Name: count, dtype: int64\n"
          ]
        }
      ]
    },
    {
      "cell_type": "markdown",
      "source": [
        "Como mencionó el profesor, la variable Y tiene más de dos clases. Por lo que, se necesita recodificar para hacerla binaria y pueda indicarnos si el paciente tiene una enfermedad cardíaca o no. Para ello, tomaremos 0, cuando el valor original es 0, para indicar que el paciente NO tiene una enfermedad cardíaca; y 1, en caso el valor original sea 1, 2, 3 o 4, para indicar si el paciente SÍ tiene una enfermedad cardíaca."
      ],
      "metadata": {
        "id": "naIcT4CfBCAT"
      }
    },
    {
      "cell_type": "code",
      "source": [
        "Y = (Y != 0).astype(int).squeeze()"
      ],
      "metadata": {
        "id": "ebVQtAwbB5MD"
      },
      "execution_count": 180,
      "outputs": []
    },
    {
      "cell_type": "code",
      "source": [
        "print(\"Nuevas clases de la variable Y:\")\n",
        "print(Y.value_counts().sort_index())"
      ],
      "metadata": {
        "colab": {
          "base_uri": "https://localhost:8080/"
        },
        "id": "hBTXWqCtCOXt",
        "outputId": "3f9ab561-0da3-4526-9933-7e6d4ac82f8a"
      },
      "execution_count": 181,
      "outputs": [
        {
          "output_type": "stream",
          "name": "stdout",
          "text": [
            "Nuevas clases de la variable Y:\n",
            "num\n",
            "0    164\n",
            "1    139\n",
            "Name: count, dtype: int64\n"
          ]
        }
      ]
    },
    {
      "cell_type": "markdown",
      "source": [
        "Realizamos un gráfico de barras para una mejor visualización"
      ],
      "metadata": {
        "id": "fQ8PhvelCfG9"
      }
    },
    {
      "cell_type": "code",
      "source": [
        "import matplotlib.pyplot as plt\n",
        "countsY = Y.value_counts().sort_index()\n",
        "plt.bar(countsY.index, countsY.values, color=['skyblue', 'salmon'])\n",
        "plt.xticks([0, 1], ['Sin enfermedad', 'Con enfermedad'])\n",
        "plt.xlabel('Diagnóstico')\n",
        "plt.ylabel('Número de pacientes')\n",
        "plt.title('Distribución binaria de enfermedad cardíaca')\n",
        "plt.show()"
      ],
      "metadata": {
        "colab": {
          "base_uri": "https://localhost:8080/",
          "height": 472
        },
        "id": "Nk8MaNEdD24D",
        "outputId": "23b7a56f-ae1c-4f2d-a467-dbb9faf04aa0"
      },
      "execution_count": 182,
      "outputs": [
        {
          "output_type": "display_data",
          "data": {
            "text/plain": [
              "<Figure size 640x480 with 1 Axes>"
            ],
            "image/png": "[encoded data removed]"
          },
          "metadata": {}
        }
      ]
    },
    {
      "cell_type": "markdown",
      "source": [
        "Ahora procedemos a evaluar los tipos de la variable X:"
      ],
      "metadata": {
        "id": "I5FQ0ysoGCB5"
      }
    },
    {
      "cell_type": "code",
      "source": [
        "X.dtypes"
      ],
      "metadata": {
        "colab": {
          "base_uri": "https://localhost:8080/",
          "height": 492
        },
        "id": "gX6r8XpHGNDT",
        "outputId": "7db11d55-ee9c-4523-c217-4bf7dc8a79e0"
      },
      "execution_count": 183,
      "outputs": [
        {
          "output_type": "execute_result",
          "data": {
            "text/plain": [
              "age           int64\n",
              "sex           int64\n",
              "cp            int64\n",
              "trestbps      int64\n",
              "chol          int64\n",
              "fbs           int64\n",
              "restecg       int64\n",
              "thalach       int64\n",
              "exang         int64\n",
              "oldpeak     float64\n",
              "slope         int64\n",
              "ca          float64\n",
              "thal        float64\n",
              "dtype: object"
            ],
            "text/html": [
              "<div>\n",
              "<style scoped>\n",
              "    .dataframe tbody tr th:only-of-type {\n",
              "        vertical-align: middle;\n",
              "    }\n",
              "\n",
              "    .dataframe tbody tr th {\n",
              "        vertical-align: top;\n",
              "    }\n",
              "\n",
              "    .dataframe thead th {\n",
              "        text-align: right;\n",
              "    }\n",
              "</style>\n",
              "<table border=\"1\" class=\"dataframe\">\n",
              "  <thead>\n",
              "    <tr style=\"text-align: right;\">\n",
              "      <th></th>\n",
              "      <th>0</th>\n",
              "    </tr>\n",
              "  </thead>\n",
              "  <tbody>\n",
              "    <tr>\n",
              "      <th>age</th>\n",
              "      <td>int64</td>\n",
              "    </tr>\n",
              "    <tr>\n",
              "      <th>sex</th>\n",
              "      <td>int64</td>\n",
              "    </tr>\n",
              "    <tr>\n",
              "      <th>cp</th>\n",
              "      <td>int64</td>\n",
              "    </tr>\n",
              "    <tr>\n",
              "      <th>trestbps</th>\n",
              "      <td>int64</td>\n",
              "    </tr>\n",
              "    <tr>\n",
              "      <th>chol</th>\n",
              "      <td>int64</td>\n",
              "    </tr>\n",
              "    <tr>\n",
              "      <th>fbs</th>\n",
              "      <td>int64</td>\n",
              "    </tr>\n",
              "    <tr>\n",
              "      <th>restecg</th>\n",
              "      <td>int64</td>\n",
              "    </tr>\n",
              "    <tr>\n",
              "      <th>thalach</th>\n",
              "      <td>int64</td>\n",
              "    </tr>\n",
              "    <tr>\n",
              "      <th>exang</th>\n",
              "      <td>int64</td>\n",
              "    </tr>\n",
              "    <tr>\n",
              "      <th>oldpeak</th>\n",
              "      <td>float64</td>\n",
              "    </tr>\n",
              "    <tr>\n",
              "      <th>slope</th>\n",
              "      <td>int64</td>\n",
              "    </tr>\n",
              "    <tr>\n",
              "      <th>ca</th>\n",
              "      <td>float64</td>\n",
              "    </tr>\n",
              "    <tr>\n",
              "      <th>thal</th>\n",
              "      <td>float64</td>\n",
              "    </tr>\n",
              "  </tbody>\n",
              "</table>\n",
              "</div><br><label><b>dtype:</b> object</label>"
            ]
          },
          "metadata": {},
          "execution_count": 183
        }
      ]
    },
    {
      "cell_type": "markdown",
      "source": [
        "Observamos que todas las variables son númericas, sin embargo, algunas de ellas pueden ser categóricas (como \"sex\"). Evaluemos con mayor profundidad:"
      ],
      "metadata": {
        "id": "ayNKXM7iHt9g"
      }
    },
    {
      "cell_type": "code",
      "source": [
        "X_ver = ['age', 'sex', 'cp', 'trestbps', 'chol', 'fbs', 'restecg', 'thalach', 'exang', 'oldpeak',\t'slope', 'ca',\t'thal']\n",
        "for col in X_ver:\n",
        "    print(f\"{col}: {X[col].unique().tolist()}\")"
      ],
      "metadata": {
        "colab": {
          "base_uri": "https://localhost:8080/"
        },
        "id": "ESVi5PtXH6Y-",
        "outputId": "fcd7ce71-b123-481c-89b8-52e6f2cbfb8c"
      },
      "execution_count": 184,
      "outputs": [
        {
          "output_type": "stream",
          "name": "stdout",
          "text": [
            "age: [63, 67, 37, 41, 56, 62, 57, 53, 44, 52, 48, 54, 49, 64, 58, 60, 50, 66, 43, 40, 69, 59, 42, 55, 61, 65, 71, 51, 46, 45, 39, 68, 47, 34, 35, 29, 70, 77, 38, 74, 76]\n",
            "sex: [1, 0]\n",
            "cp: [1, 4, 3, 2]\n",
            "trestbps: [145, 160, 120, 130, 140, 172, 150, 110, 132, 117, 135, 112, 105, 124, 125, 142, 128, 170, 155, 104, 180, 138, 108, 134, 122, 115, 118, 100, 200, 94, 165, 102, 152, 101, 126, 174, 148, 178, 158, 192, 129, 144, 123, 136, 146, 106, 156, 154, 114, 164]\n",
            "chol: [233, 286, 229, 250, 204, 236, 268, 354, 254, 203, 192, 294, 256, 263, 199, 168, 239, 275, 266, 211, 283, 284, 224, 206, 219, 340, 226, 247, 167, 230, 335, 234, 177, 276, 353, 243, 225, 302, 212, 330, 175, 417, 197, 198, 290, 253, 172, 273, 213, 305, 216, 304, 188, 282, 185, 232, 326, 231, 269, 267, 248, 360, 258, 308, 245, 270, 208, 264, 321, 274, 325, 235, 257, 164, 141, 252, 255, 201, 222, 260, 182, 303, 265, 309, 307, 249, 186, 341, 183, 407, 217, 288, 220, 209, 227, 261, 174, 281, 221, 205, 240, 289, 318, 298, 564, 246, 322, 299, 300, 293, 277, 214, 207, 223, 160, 394, 184, 315, 409, 244, 195, 196, 126, 313, 259, 200, 262, 215, 228, 193, 271, 210, 327, 149, 295, 306, 178, 237, 218, 242, 319, 166, 180, 311, 278, 342, 169, 187, 157, 176, 241, 131]\n",
            "fbs: [1, 0]\n",
            "restecg: [2, 0, 1]\n",
            "thalach: [150, 108, 129, 187, 172, 178, 160, 163, 147, 155, 148, 153, 142, 173, 162, 174, 168, 139, 171, 144, 132, 158, 114, 151, 161, 179, 120, 112, 137, 157, 169, 165, 123, 128, 152, 140, 188, 109, 125, 131, 170, 113, 99, 177, 141, 180, 111, 143, 182, 156, 115, 149, 145, 146, 175, 186, 185, 159, 130, 190, 136, 97, 127, 154, 133, 126, 202, 103, 166, 164, 184, 124, 122, 96, 138, 88, 105, 194, 195, 106, 167, 95, 192, 117, 121, 116, 71, 118, 181, 134, 90]\n",
            "exang: [0, 1]\n",
            "oldpeak: [2.3, 1.5, 2.6, 3.5, 1.4, 0.8, 3.6, 0.6, 3.1, 0.4, 1.3, 0.0, 0.5, 1.6, 1.0, 1.2, 0.2, 1.8, 3.2, 2.4, 2.0, 2.5, 2.2, 2.8, 3.0, 3.4, 6.2, 4.0, 5.6, 2.9, 0.1, 2.1, 1.9, 4.2, 0.9, 1.1, 3.8, 0.7, 0.3, 4.4]\n",
            "slope: [3, 2, 1]\n",
            "ca: [0.0, 3.0, 2.0, 1.0, nan]\n",
            "thal: [6.0, 3.0, 7.0, nan]\n"
          ]
        }
      ]
    },
    {
      "cell_type": "markdown",
      "source": [
        "Observamos que las variables \"ca\" y \"thal\" tienen valores NA. Entonces, procedemos a imputarlos:"
      ],
      "metadata": {
        "id": "I2HD0Am1LGVH"
      }
    },
    {
      "cell_type": "code",
      "source": [
        "for col in ['ca', 'thal']:\n",
        "    moda = X[col].mode()[0]\n",
        "    X[col].fillna(moda, inplace=True)"
      ],
      "metadata": {
        "colab": {
          "base_uri": "https://localhost:8080/"
        },
        "id": "SDBGiDx-Loqf",
        "outputId": "baa67206-4281-4605-ecf4-5caa30cb8e75"
      },
      "execution_count": 185,
      "outputs": [
        {
          "output_type": "stream",
          "name": "stderr",
          "text": [
            "/tmp/ipython-input-2405491229.py:3: FutureWarning: A value is trying to be set on a copy of a DataFrame or Series through chained assignment using an inplace method.\n",
            "The behavior will change in pandas 3.0. This inplace method will never work because the intermediate object on which we are setting values always behaves as a copy.\n",
            "\n",
            "For example, when doing 'df[col].method(value, inplace=True)', try using 'df.method({col: value}, inplace=True)' or df[col] = df[col].method(value) instead, to perform the operation inplace on the original object.\n",
            "\n",
            "\n",
            "  X[col].fillna(moda, inplace=True)\n",
            "/tmp/ipython-input-2405491229.py:3: SettingWithCopyWarning: \n",
            "A value is trying to be set on a copy of a slice from a DataFrame\n",
            "\n",
            "See the caveats in the documentation: https://pandas.pydata.org/pandas-docs/stable/user_guide/indexing.html#returning-a-view-versus-a-copy\n",
            "  X[col].fillna(moda, inplace=True)\n"
          ]
        }
      ]
    },
    {
      "cell_type": "markdown",
      "source": [
        "Revisamos:"
      ],
      "metadata": {
        "id": "k0u7eLrFMBV_"
      }
    },
    {
      "cell_type": "code",
      "source": [
        "X_cat = ['sex', 'cp', 'fbs', 'restecg', 'exang', 'slope', 'ca',\t'thal']\n",
        "for col in X_cat:\n",
        "    print(f\"{col}: {X[col].unique().tolist()}\")"
      ],
      "metadata": {
        "colab": {
          "base_uri": "https://localhost:8080/"
        },
        "id": "8-q0nWBiMEUl",
        "outputId": "9af68bea-8b94-44e3-e44b-f2261b9d7497"
      },
      "execution_count": 186,
      "outputs": [
        {
          "output_type": "stream",
          "name": "stdout",
          "text": [
            "sex: [1, 0]\n",
            "cp: [1, 4, 3, 2]\n",
            "fbs: [1, 0]\n",
            "restecg: [2, 0, 1]\n",
            "exang: [0, 1]\n",
            "slope: [3, 2, 1]\n",
            "ca: [0.0, 3.0, 2.0, 1.0]\n",
            "thal: [6.0, 3.0, 7.0]\n"
          ]
        }
      ]
    },
    {
      "cell_type": "markdown",
      "source": [
        "Convirtiendo a las variables categóricas:"
      ],
      "metadata": {
        "id": "dYtKcf0aI-JY"
      }
    },
    {
      "cell_type": "code",
      "source": [
        "for col in X_cat:\n",
        "    X[col] = X[col].astype('category')"
      ],
      "metadata": {
        "colab": {
          "base_uri": "https://localhost:8080/"
        },
        "id": "JnjYBx_pOMs7",
        "outputId": "5f1403b3-0d20-4c00-dab2-998e7edaff0d"
      },
      "execution_count": 187,
      "outputs": [
        {
          "output_type": "stream",
          "name": "stderr",
          "text": [
            "/tmp/ipython-input-2873068298.py:2: SettingWithCopyWarning: \n",
            "A value is trying to be set on a copy of a slice from a DataFrame.\n",
            "Try using .loc[row_indexer,col_indexer] = value instead\n",
            "\n",
            "See the caveats in the documentation: https://pandas.pydata.org/pandas-docs/stable/user_guide/indexing.html#returning-a-view-versus-a-copy\n",
            "  X[col] = X[col].astype('category')\n"
          ]
        }
      ]
    },
    {
      "cell_type": "code",
      "source": [
        "cat_cols = X.select_dtypes(include='category').columns.tolist()\n",
        "num_cols = X.select_dtypes(include=['int64', 'float64']).columns.difference(cat_cols).tolist()"
      ],
      "metadata": {
        "id": "aB7MUk0vOa-7"
      },
      "execution_count": 188,
      "outputs": []
    },
    {
      "cell_type": "markdown",
      "source": [
        "Una vez que hemos convertido nuestras variables categóricas y hallamos diferenciado entre las variables numéricas y categóricas, procedemos a realizar la estandarización y el one-hot-coding de todas las variables"
      ],
      "metadata": {
        "id": "07IVLrB9GSt0"
      }
    },
    {
      "cell_type": "code",
      "source": [
        "from sklearn.model_selection import train_test_split\n",
        "# Split ANTES del preprocesamiento (estratificamos por clase)\n",
        "X_train_raw, X_test_raw, y_train, y_test = train_test_split(\n",
        "    X, Y.values.ravel(), test_size=0.3, random_state=42, stratify=Y\n",
        ")\n",
        "\n",
        "from sklearn.compose import ColumnTransformer\n",
        "from sklearn.preprocessing import StandardScaler, OneHotEncoder\n",
        "\n",
        "preprocesamiento = ColumnTransformer(\n",
        "    transformers=[\n",
        "        ('num', StandardScaler(), num_cols),\n",
        "        ('cat', OneHotEncoder(drop='first', handle_unknown='ignore'), cat_cols)\n",
        "    ]\n",
        ")"
      ],
      "metadata": {
        "id": "9iLkSJcaQB0p"
      },
      "execution_count": 189,
      "outputs": []
    },
    {
      "cell_type": "markdown",
      "source": [
        "Por último, dividimos nuestra base para el training (70%) y el testing (30%)\n",
        "\n",
        "*   Elemento de la lista\n",
        "*   Elemento de la lista\n",
        "\n",
        "antes de realizar nuestras funciones logísticas:"
      ],
      "metadata": {
        "id": "YAxqAFZ4SdUP"
      }
    },
    {
      "cell_type": "code",
      "source": [
        "# Ajuste solo con el train; transformar train y test\n",
        "X_train = preprocesamiento.fit_transform(X_train_raw)\n",
        "X_test  = preprocesamiento.transform(X_test_raw)"
      ],
      "metadata": {
        "id": "AEWhCPsYSneV"
      },
      "execution_count": 190,
      "outputs": []
    },
    {
      "cell_type": "markdown",
      "source": [
        "#### MODEL DERIVATION AND IMPLEMENTATION\n"
      ],
      "metadata": {
        "id": "zjzuAvpjTmwq"
      }
    },
    {
      "cell_type": "markdown",
      "source": [
        "Usaremos la librería Numpy y para hacerlo un poco más resumido para más adelante, crearemos una clase para nuestra función de regresión logística:"
      ],
      "metadata": {
        "id": "EDCpe53_WNJe"
      }
    },
    {
      "cell_type": "code",
      "source": [
        "import numpy as np"
      ],
      "metadata": {
        "id": "0kAbmA3tWf4d"
      },
      "execution_count": 191,
      "outputs": []
    },
    {
      "cell_type": "code",
      "metadata": {
        "id": "cdca86f7"
      },
      "source": [
        "class LogRegression:\n",
        "    def __init__(self, lr=0.01, n_iter=1000):\n",
        "        self.lr = lr\n",
        "        self.n_iter = n_iter\n",
        "\n",
        "    def sigmoid(self, z):\n",
        "        return 1 / (1 + np.exp(-z))\n",
        "\n",
        "    def fit(self, X, y):\n",
        "        self.losses = []\n",
        "        self.weights = np.zeros(X.shape[1])\n",
        "        self.bias = 0\n",
        "\n",
        "        for i in range(self.n_iter):\n",
        "            linear_model = np.dot(X, self.weights) + self.bias\n",
        "            y_pred = self.sigmoid(linear_model)\n",
        "            # Gradientes\n",
        "            dw = np.dot(X.T, (y_pred - y)) / len(y)\n",
        "            db = np.sum(y_pred - y) / len(y)\n",
        "            # Actualización\n",
        "            self.weights -= self.lr * dw\n",
        "            self.bias -= self.lr * db\n",
        "            # Pérdida logarítmica\n",
        "            loss = -np.mean(y * np.log(y_pred + 1e-15) + (1 - y) * np.log(1 - y_pred + 1e-15))\n",
        "            self.losses.append(loss)\n",
        "        return self # Return self to allow chaining fit and predict_proba\n",
        "\n",
        "    def predict(self, X):\n",
        "        linear_model = np.dot(X, self.weights) + self.bias\n",
        "        y_pred = self.sigmoid(linear_model)\n",
        "        return (y_pred >= 0.5).astype(int)\n",
        "\n",
        "    def predict_proba(self, X):\n",
        "        \"\"\"Calculates the probability of belonging to the positive class.\"\"\"\n",
        "        linear_model = np.dot(X, self.weights) + self.bias\n",
        "        return self.sigmoid(linear_model)"
      ],
      "execution_count": 192,
      "outputs": []
    },
    {
      "cell_type": "markdown",
      "source": [
        "Entrenamos nuestro modelo (que definimos anteriormente):"
      ],
      "metadata": {
        "id": "4cnA45rDbn-G"
      }
    },
    {
      "cell_type": "code",
      "source": [
        "modelo = LogRegression(lr=0.1, n_iter=1000)\n",
        "modelo.fit(X_train, y_train)"
      ],
      "metadata": {
        "id": "Nuq175C5bqQ6",
        "colab": {
          "base_uri": "https://localhost:8080/"
        },
        "outputId": "b696baf4-11aa-4781-ff39-a171b6f870e4"
      },
      "execution_count": 193,
      "outputs": [
        {
          "output_type": "execute_result",
          "data": {
            "text/plain": [
              "<__main__.LogRegression at 0x785b97a70f50>"
            ]
          },
          "metadata": {},
          "execution_count": 193
        }
      ]
    },
    {
      "cell_type": "markdown",
      "source": [
        "Ahora graficamos la gradiente. Para la convergencia, utilizaremos dos distintas tasa de aprendizaje: 0.1 (predefinido), 0.05 y 0.01."
      ],
      "metadata": {
        "id": "GilInrxmcOuh"
      }
    },
    {
      "cell_type": "code",
      "source": [
        "import matplotlib.pyplot as plt\n",
        "\n",
        "for lr in [0.01, 0.05, 0.1]:\n",
        "    model = LogRegression(lr=lr, n_iter=15000)\n",
        "    model.fit(X_train, y_train)\n",
        "    plt.plot(model.losses, label=f'lr={lr}')\n",
        "\n",
        "plt.xlabel('Iteraciones')\n",
        "plt.ylabel('Pérdida logarítmica')\n",
        "plt.title('Convergencia del descenso de gradiente')\n",
        "plt.legend()\n",
        "plt.show()"
      ],
      "metadata": {
        "colab": {
          "base_uri": "https://localhost:8080/",
          "height": 472
        },
        "id": "4nQzikqxcllC",
        "outputId": "b91f71dd-c223-41ca-9d9e-df594b45b4c4"
      },
      "execution_count": 194,
      "outputs": [
        {
          "output_type": "display_data",
          "data": {
            "text/plain": [
              "<Figure size 640x480 with 1 Axes>"
            ],
            "image/png": "[encoded data removed]"
          },
          "metadata": {}
        }
      ]
    },
    {
      "cell_type": "markdown",
      "source": [
        "Hemos seleccionado tres tasas de aprendizaje con 500 iteraciones: 0.1, 0.05 y 0.01. Según el gráfico obtenido, podemos decir que:\n",
        " lr = 0.01 (azul)\n",
        "\n",
        "1.   lr = 0.01 (color azul): La curva es estable aunque desciende lentamente, es decir, aprende poco a poco o con cautela y necesitaría de más iteraciones para alcanzar el mínimo.\n",
        "\n",
        "2.   lr = 0.05 (color naranja): Aquí se observa que la convergencia es más rápida que el 0.01. La pérdida baja más pronunciadamente y tiene un buen equilibrio entre la velocidad y la estabilidad.\n",
        "\n",
        "1.   lr = 0.1 (color verde): A diferncia de los demás, la curva baja muy rápido en el inicio y parece converger bien, sin oscilaciones y sin sobreajuste.\n",
        "\n",
        "Conclusión: Todas las tasas de aprendizaje convergen, pero a velocidades distintas. En este caso, la tasa de aprendizaje 0.1 es la más eficiente."
      ],
      "metadata": {
        "id": "zqMqZ2nAPqA5"
      }
    },
    {
      "cell_type": "markdown",
      "source": [
        "#### EVALUACIÓN"
      ],
      "metadata": {
        "id": "jFOLAlQ8oq8H"
      }
    },
    {
      "cell_type": "markdown",
      "source": [
        "Finalmente, procedemos a comparar la regresión logística que hicimos con el paquete de sklearn. Vamos a calcular la exactitud, precisión, recuperación y puntuación F1 en nuestro conjunto de prueba, además realizaremos la tabla de confusión para visualizarlo mejor:\n"
      ],
      "metadata": {
        "id": "ACj4Hy-eqOrT"
      }
    },
    {
      "cell_type": "code",
      "source": [
        "from ISLP import confusion_table"
      ],
      "metadata": {
        "id": "OCc9XEpFwHKL"
      },
      "execution_count": 195,
      "outputs": []
    },
    {
      "cell_type": "markdown",
      "source": [
        "Para el modelo que creamos desde cero:"
      ],
      "metadata": {
        "id": "3HqTrZB8s0R5"
      }
    },
    {
      "cell_type": "code",
      "source": [
        "from sklearn.metrics import accuracy_score, precision_score, recall_score, f1_score\n",
        "\n",
        "y_pred_scratch = model.predict(X_test)\n",
        "\n",
        "print(\"La exactitud del modelo es:\", round(accuracy_score(y_test, y_pred_scratch), 4))\n",
        "print(\"La precisión del modelo es:\", round(precision_score(y_test, y_pred_scratch), 4))\n",
        "print(\"En cuanto a la recuperación (recall), tenemos:\", round(recall_score(y_test, y_pred_scratch), 4))\n",
        "print(\"El F1 es:\", round(f1_score(y_test, y_pred_scratch), 4))"
      ],
      "metadata": {
        "colab": {
          "base_uri": "https://localhost:8080/"
        },
        "id": "1Bt8xFK_o1jw",
        "outputId": "e7b0aa43-7430-48b3-dd56-6ee75f0e31b7"
      },
      "execution_count": 196,
      "outputs": [
        {
          "output_type": "stream",
          "name": "stdout",
          "text": [
            "La exactitud del modelo es: 0.8462\n",
            "La precisión del modelo es: 0.8333\n",
            "En cuanto a la recuperación (recall), tenemos: 0.8333\n",
            "El F1 es: 0.8333\n"
          ]
        }
      ]
    },
    {
      "cell_type": "code",
      "source": [
        "print(\"Modelo desde cero:\")\n",
        "confusion_table(y_test, y_pred_scratch)"
      ],
      "metadata": {
        "colab": {
          "base_uri": "https://localhost:8080/",
          "height": 161
        },
        "id": "nVJB7qftt3-w",
        "outputId": "562d3f91-d8ee-4986-ee4c-a5734b8c72d0"
      },
      "execution_count": 197,
      "outputs": [
        {
          "output_type": "stream",
          "name": "stdout",
          "text": [
            "Modelo desde cero:\n"
          ]
        },
        {
          "output_type": "execute_result",
          "data": {
            "text/plain": [
              "Truth       0   1\n",
              "Predicted        \n",
              "0          42   7\n",
              "1           7  35"
            ],
            "text/html": [
              "\n",
              "  <div id=\"df-d8b5ecb0-4c50-41f6-b7b9-f64331a43845\" class=\"colab-df-container\">\n",
              "    <div>\n",
              "<style scoped>\n",
              "    .dataframe tbody tr th:only-of-type {\n",
              "        vertical-align: middle;\n",
              "    }\n",
              "\n",
              "    .dataframe tbody tr th {\n",
              "        vertical-align: top;\n",
              "    }\n",
              "\n",
              "    .dataframe thead th {\n",
              "        text-align: right;\n",
              "    }\n",
              "</style>\n",
              "<table border=\"1\" class=\"dataframe\">\n",
              "  <thead>\n",
              "    <tr style=\"text-align: right;\">\n",
              "      <th>Truth</th>\n",
              "      <th>0</th>\n",
              "      <th>1</th>\n",
              "    </tr>\n",
              "    <tr>\n",
              "      <th>Predicted</th>\n",
              "      <th></th>\n",
              "      <th></th>\n",
              "    </tr>\n",
              "  </thead>\n",
              "  <tbody>\n",
              "    <tr>\n",
              "      <th>0</th>\n",
              "      <td>42</td>\n",
              "      <td>7</td>\n",
              "    </tr>\n",
              "    <tr>\n",
              "      <th>1</th>\n",
              "      <td>7</td>\n",
              "      <td>35</td>\n",
              "    </tr>\n",
              "  </tbody>\n",
              "</table>\n",
              "</div>\n",
              "    <div class=\"colab-df-buttons\">\n",
              "\n",
              "  <div class=\"colab-df-container\">\n",
              "    <button class=\"colab-df-convert\" onclick=\"convertToInteractive('df-d8b5ecb0-4c50-41f6-b7b9-f64331a43845')\"\n",
              "            title=\"Convert this dataframe to an interactive table.\"\n",
              "            style=\"display:none;\">\n",
              "\n",
              "  <svg xmlns=\"http://www.w3.org/2000/svg\" height=\"24px\" viewBox=\"0 -960 960 960\">\n",
              "    <path d=\"M120-120v-720h720v720H120Zm60-500h600v-160H180v160Zm220 220h160v-160H400v160Zm0 220h160v-160H400v160ZM180-400h160v-160H180v160Zm440 0h160v-160H620v160ZM180-180h160v-160H180v160Zm440 0h160v-160H620v160Z\"/>\n",
              "  </svg>\n",
              "    </button>\n",
              "\n",
              "  <style>\n",
              "    .colab-df-container {\n",
              "      display:flex;\n",
              "      gap: 12px;\n",
              "    }\n",
              "\n",
              "    .colab-df-convert {\n",
              "      background-color: #E8F0FE;\n",
              "      border: none;\n",
              "      border-radius: 50%;\n",
              "      cursor: pointer;\n",
              "      display: none;\n",
              "      fill: #1967D2;\n",
              "      height: 32px;\n",
              "      padding: 0 0 0 0;\n",
              "      width: 32px;\n",
              "    }\n",
              "\n",
              "    .colab-df-convert:hover {\n",
              "      background-color: #E2EBFA;\n",
              "      box-shadow: 0px 1px 2px rgba(60, 64, 67, 0.3), 0px 1px 3px 1px rgba(60, 64, 67, 0.15);\n",
              "      fill: #174EA6;\n",
              "    }\n",
              "\n",
              "    .colab-df-buttons div {\n",
              "      margin-bottom: 4px;\n",
              "    }\n",
              "\n",
              "    [theme=dark] .colab-df-convert {\n",
              "      background-color: #3B4455;\n",
              "      fill: #D2E3FC;\n",
              "    }\n",
              "\n",
              "    [theme=dark] .colab-df-convert:hover {\n",
              "      background-color: #434B5C;\n",
              "      box-shadow: 0px 1px 3px 1px rgba(0, 0, 0, 0.15);\n",
              "      filter: drop-shadow(0px 1px 2px rgba(0, 0, 0, 0.3));\n",
              "      fill: #FFFFFF;\n",
              "    }\n",
              "  </style>\n",
              "\n",
              "    <script>\n",
              "      const buttonEl =\n",
              "        document.querySelector('#df-d8b5ecb0-4c50-41f6-b7b9-f64331a43845 button.colab-df-convert');\n",
              "      buttonEl.style.display =\n",
              "        google.colab.kernel.accessAllowed ? 'block' : 'none';\n",
              "\n",
              "      async function convertToInteractive(key) {\n",
              "        const element = document.querySelector('#df-d8b5ecb0-4c50-41f6-b7b9-f64331a43845');\n",
              "        const dataTable =\n",
              "          await google.colab.kernel.invokeFunction('convertToInteractive',\n",
              "                                                    [key], {});\n",
              "        if (!dataTable) return;\n",
              "\n",
              "        const docLinkHtml = 'Like what you see? Visit the ' +\n",
              "          '<a target=\"_blank\" href=https://colab.research.google.com/notebooks/data_table.ipynb>data table notebook</a>'\n",
              "          + ' to learn more about interactive tables.';\n",
              "        element.innerHTML = '';\n",
              "        dataTable['output_type'] = 'display_data';\n",
              "        await google.colab.output.renderOutput(dataTable, element);\n",
              "        const docLink = document.createElement('div');\n",
              "        docLink.innerHTML = docLinkHtml;\n",
              "        element.appendChild(docLink);\n",
              "      }\n",
              "    </script>\n",
              "  </div>\n",
              "\n",
              "\n",
              "    <div id=\"df-11a06a91-17f0-4631-81d4-0ad4c0f67fd1\">\n",
              "      <button class=\"colab-df-quickchart\" onclick=\"quickchart('df-11a06a91-17f0-4631-81d4-0ad4c0f67fd1')\"\n",
              "                title=\"Suggest charts\"\n",
              "                style=\"display:none;\">\n",
              "\n",
              "<svg xmlns=\"http://www.w3.org/2000/svg\" height=\"24px\"viewBox=\"0 0 24 24\"\n",
              "     width=\"24px\">\n",
              "    <g>\n",
              "        <path d=\"M19 3H5c-1.1 0-2 .9-2 2v14c0 1.1.9 2 2 2h14c1.1 0 2-.9 2-2V5c0-1.1-.9-2-2-2zM9 17H7v-7h2v7zm4 0h-2V7h2v10zm4 0h-2v-4h2v4z\"/>\n",
              "    </g>\n",
              "</svg>\n",
              "      </button>\n",
              "\n",
              "<style>\n",
              "  .colab-df-quickchart {\n",
              "      --bg-color: #E8F0FE;\n",
              "      --fill-color: #1967D2;\n",
              "      --hover-bg-color: #E2EBFA;\n",
              "      --hover-fill-color: #174EA6;\n",
              "      --disabled-fill-color: #AAA;\n",
              "      --disabled-bg-color: #DDD;\n",
              "  }\n",
              "\n",
              "  [theme=dark] .colab-df-quickchart {\n",
              "      --bg-color: #3B4455;\n",
              "      --fill-color: #D2E3FC;\n",
              "      --hover-bg-color: #434B5C;\n",
              "      --hover-fill-color: #FFFFFF;\n",
              "      --disabled-bg-color: #3B4455;\n",
              "      --disabled-fill-color: #666;\n",
              "  }\n",
              "\n",
              "  .colab-df-quickchart {\n",
              "    background-color: var(--bg-color);\n",
              "    border: none;\n",
              "    border-radius: 50%;\n",
              "    cursor: pointer;\n",
              "    display: none;\n",
              "    fill: var(--fill-color);\n",
              "    height: 32px;\n",
              "    padding: 0;\n",
              "    width: 32px;\n",
              "  }\n",
              "\n",
              "  .colab-df-quickchart:hover {\n",
              "    background-color: var(--hover-bg-color);\n",
              "    box-shadow: 0 1px 2px rgba(60, 64, 67, 0.3), 0 1px 3px 1px rgba(60, 64, 67, 0.15);\n",
              "    fill: var(--button-hover-fill-color);\n",
              "  }\n",
              "\n",
              "  .colab-df-quickchart-complete:disabled,\n",
              "  .colab-df-quickchart-complete:disabled:hover {\n",
              "    background-color: var(--disabled-bg-color);\n",
              "    fill: var(--disabled-fill-color);\n",
              "    box-shadow: none;\n",
              "  }\n",
              "\n",
              "  .colab-df-spinner {\n",
              "    border: 2px solid var(--fill-color);\n",
              "    border-color: transparent;\n",
              "    border-bottom-color: var(--fill-color);\n",
              "    animation:\n",
              "      spin 1s steps(1) infinite;\n",
              "  }\n",
              "\n",
              "  @keyframes spin {\n",
              "    0% {\n",
              "      border-color: transparent;\n",
              "      border-bottom-color: var(--fill-color);\n",
              "      border-left-color: var(--fill-color);\n",
              "    }\n",
              "    20% {\n",
              "      border-color: transparent;\n",
              "      border-left-color: var(--fill-color);\n",
              "      border-top-color: var(--fill-color);\n",
              "    }\n",
              "    30% {\n",
              "      border-color: transparent;\n",
              "      border-left-color: var(--fill-color);\n",
              "      border-top-color: var(--fill-color);\n",
              "      border-right-color: var(--fill-color);\n",
              "    }\n",
              "    40% {\n",
              "      border-color: transparent;\n",
              "      border-right-color: var(--fill-color);\n",
              "      border-top-color: var(--fill-color);\n",
              "    }\n",
              "    60% {\n",
              "      border-color: transparent;\n",
              "      border-right-color: var(--fill-color);\n",
              "    }\n",
              "    80% {\n",
              "      border-color: transparent;\n",
              "      border-right-color: var(--fill-color);\n",
              "      border-bottom-color: var(--fill-color);\n",
              "    }\n",
              "    90% {\n",
              "      border-color: transparent;\n",
              "      border-bottom-color: var(--fill-color);\n",
              "    }\n",
              "  }\n",
              "</style>\n",
              "\n",
              "      <script>\n",
              "        async function quickchart(key) {\n",
              "          const quickchartButtonEl =\n",
              "            document.querySelector('#' + key + ' button');\n",
              "          quickchartButtonEl.disabled = true;  // To prevent multiple clicks.\n",
              "          quickchartButtonEl.classList.add('colab-df-spinner');\n",
              "          try {\n",
              "            const charts = await google.colab.kernel.invokeFunction(\n",
              "                'suggestCharts', [key], {});\n",
              "          } catch (error) {\n",
              "            console.error('Error during call to suggestCharts:', error);\n",
              "          }\n",
              "          quickchartButtonEl.classList.remove('colab-df-spinner');\n",
              "          quickchartButtonEl.classList.add('colab-df-quickchart-complete');\n",
              "        }\n",
              "        (() => {\n",
              "          let quickchartButtonEl =\n",
              "            document.querySelector('#df-11a06a91-17f0-4631-81d4-0ad4c0f67fd1 button');\n",
              "          quickchartButtonEl.style.display =\n",
              "            google.colab.kernel.accessAllowed ? 'block' : 'none';\n",
              "        })();\n",
              "      </script>\n",
              "    </div>\n",
              "\n",
              "    </div>\n",
              "  </div>\n"
            ],
            "application/vnd.google.colaboratory.intrinsic+json": {
              "type": "dataframe",
              "summary": "{\n  \"name\": \"confusion_table(y_test, y_pred_scratch)\",\n  \"rows\": 2,\n  \"fields\": [\n    {\n      \"column\": \"Predicted\",\n      \"properties\": {\n        \"dtype\": \"number\",\n        \"std\": 0,\n        \"min\": 0,\n        \"max\": 1,\n        \"num_unique_values\": 2,\n        \"samples\": [\n          1,\n          0\n        ],\n        \"semantic_type\": \"\",\n        \"description\": \"\"\n      }\n    },\n    {\n      \"column\": 0,\n      \"properties\": {\n        \"dtype\": \"number\",\n        \"std\": 24,\n        \"min\": 7,\n        \"max\": 42,\n        \"num_unique_values\": 2,\n        \"samples\": [\n          7,\n          42\n        ],\n        \"semantic_type\": \"\",\n        \"description\": \"\"\n      }\n    },\n    {\n      \"column\": 1,\n      \"properties\": {\n        \"dtype\": \"number\",\n        \"std\": 19,\n        \"min\": 7,\n        \"max\": 35,\n        \"num_unique_values\": 2,\n        \"samples\": [\n          35,\n          7\n        ],\n        \"semantic_type\": \"\",\n        \"description\": \"\"\n      }\n    }\n  ]\n}"
            }
          },
          "metadata": {},
          "execution_count": 197
        }
      ]
    },
    {
      "cell_type": "markdown",
      "source": [
        "Para el que hicimos con sklearn"
      ],
      "metadata": {
        "id": "9Q_0dIUgs4Jc"
      }
    },
    {
      "cell_type": "code",
      "source": [
        "from sklearn.linear_model import LogisticRegression\n",
        "\n",
        "sk_model = LogisticRegression(max_iter=1000)\n",
        "sk_model.fit(X_train, y_train)\n",
        "y_pred_sk = sk_model.predict(X_test)\n",
        "\n",
        "print(\"\\nCon el paquete sklearn:\")\n",
        "print(\"La exactitud del modelo es:\", round(accuracy_score(y_test, y_pred_sk), 4))\n",
        "print(\"La precisión del modelo es:\", round(precision_score(y_test, y_pred_sk), 4))\n",
        "print(\"En cuanto a la recuperación (recall), tenemos:\", round(recall_score(y_test, y_pred_sk), 4))\n",
        "print(\"Y el F1 es:\", round(f1_score(y_test, y_pred_sk), 4))"
      ],
      "metadata": {
        "colab": {
          "base_uri": "https://localhost:8080/"
        },
        "id": "yywGQeIjqN3E",
        "outputId": "3a126a4e-448d-4b7e-827a-f4be453b2296"
      },
      "execution_count": 198,
      "outputs": [
        {
          "output_type": "stream",
          "name": "stdout",
          "text": [
            "\n",
            "Con el paquete sklearn:\n",
            "La exactitud del modelo es: 0.8681\n",
            "La precisión del modelo es: 0.875\n",
            "En cuanto a la recuperación (recall), tenemos: 0.8333\n",
            "Y el F1 es: 0.8537\n"
          ]
        }
      ]
    },
    {
      "cell_type": "code",
      "source": [
        "print(\"Modelo sklearn:\")\n",
        "confusion_table(y_test, y_pred_sk)"
      ],
      "metadata": {
        "colab": {
          "base_uri": "https://localhost:8080/",
          "height": 161
        },
        "id": "5CkhhTlMwE_l",
        "outputId": "ce55ac36-5545-4a07-909c-4424c9f905dc"
      },
      "execution_count": 199,
      "outputs": [
        {
          "output_type": "stream",
          "name": "stdout",
          "text": [
            "Modelo sklearn:\n"
          ]
        },
        {
          "output_type": "execute_result",
          "data": {
            "text/plain": [
              "Truth       0   1\n",
              "Predicted        \n",
              "0          44   5\n",
              "1           7  35"
            ],
            "text/html": [
              "\n",
              "  <div id=\"df-101acfe4-6528-4ef7-a7f3-f2861090a4d6\" class=\"colab-df-container\">\n",
              "    <div>\n",
              "<style scoped>\n",
              "    .dataframe tbody tr th:only-of-type {\n",
              "        vertical-align: middle;\n",
              "    }\n",
              "\n",
              "    .dataframe tbody tr th {\n",
              "        vertical-align: top;\n",
              "    }\n",
              "\n",
              "    .dataframe thead th {\n",
              "        text-align: right;\n",
              "    }\n",
              "</style>\n",
              "<table border=\"1\" class=\"dataframe\">\n",
              "  <thead>\n",
              "    <tr style=\"text-align: right;\">\n",
              "      <th>Truth</th>\n",
              "      <th>0</th>\n",
              "      <th>1</th>\n",
              "    </tr>\n",
              "    <tr>\n",
              "      <th>Predicted</th>\n",
              "      <th></th>\n",
              "      <th></th>\n",
              "    </tr>\n",
              "  </thead>\n",
              "  <tbody>\n",
              "    <tr>\n",
              "      <th>0</th>\n",
              "      <td>44</td>\n",
              "      <td>5</td>\n",
              "    </tr>\n",
              "    <tr>\n",
              "      <th>1</th>\n",
              "      <td>7</td>\n",
              "      <td>35</td>\n",
              "    </tr>\n",
              "  </tbody>\n",
              "</table>\n",
              "</div>\n",
              "    <div class=\"colab-df-buttons\">\n",
              "\n",
              "  <div class=\"colab-df-container\">\n",
              "    <button class=\"colab-df-convert\" onclick=\"convertToInteractive('df-101acfe4-6528-4ef7-a7f3-f2861090a4d6')\"\n",
              "            title=\"Convert this dataframe to an interactive table.\"\n",
              "            style=\"display:none;\">\n",
              "\n",
              "  <svg xmlns=\"http://www.w3.org/2000/svg\" height=\"24px\" viewBox=\"0 -960 960 960\">\n",
              "    <path d=\"M120-120v-720h720v720H120Zm60-500h600v-160H180v160Zm220 220h160v-160H400v160Zm0 220h160v-160H400v160ZM180-400h160v-160H180v160Zm440 0h160v-160H620v160ZM180-180h160v-160H180v160Zm440 0h160v-160H620v160Z\"/>\n",
              "  </svg>\n",
              "    </button>\n",
              "\n",
              "  <style>\n",
              "    .colab-df-container {\n",
              "      display:flex;\n",
              "      gap: 12px;\n",
              "    }\n",
              "\n",
              "    .colab-df-convert {\n",
              "      background-color: #E8F0FE;\n",
              "      border: none;\n",
              "      border-radius: 50%;\n",
              "      cursor: pointer;\n",
              "      display: none;\n",
              "      fill: #1967D2;\n",
              "      height: 32px;\n",
              "      padding: 0 0 0 0;\n",
              "      width: 32px;\n",
              "    }\n",
              "\n",
              "    .colab-df-convert:hover {\n",
              "      background-color: #E2EBFA;\n",
              "      box-shadow: 0px 1px 2px rgba(60, 64, 67, 0.3), 0px 1px 3px 1px rgba(60, 64, 67, 0.15);\n",
              "      fill: #174EA6;\n",
              "    }\n",
              "\n",
              "    .colab-df-buttons div {\n",
              "      margin-bottom: 4px;\n",
              "    }\n",
              "\n",
              "    [theme=dark] .colab-df-convert {\n",
              "      background-color: #3B4455;\n",
              "      fill: #D2E3FC;\n",
              "    }\n",
              "\n",
              "    [theme=dark] .colab-df-convert:hover {\n",
              "      background-color: #434B5C;\n",
              "      box-shadow: 0px 1px 3px 1px rgba(0, 0, 0, 0.15);\n",
              "      filter: drop-shadow(0px 1px 2px rgba(0, 0, 0, 0.3));\n",
              "      fill: #FFFFFF;\n",
              "    }\n",
              "  </style>\n",
              "\n",
              "    <script>\n",
              "      const buttonEl =\n",
              "        document.querySelector('#df-101acfe4-6528-4ef7-a7f3-f2861090a4d6 button.colab-df-convert');\n",
              "      buttonEl.style.display =\n",
              "        google.colab.kernel.accessAllowed ? 'block' : 'none';\n",
              "\n",
              "      async function convertToInteractive(key) {\n",
              "        const element = document.querySelector('#df-101acfe4-6528-4ef7-a7f3-f2861090a4d6');\n",
              "        const dataTable =\n",
              "          await google.colab.kernel.invokeFunction('convertToInteractive',\n",
              "                                                    [key], {});\n",
              "        if (!dataTable) return;\n",
              "\n",
              "        const docLinkHtml = 'Like what you see? Visit the ' +\n",
              "          '<a target=\"_blank\" href=https://colab.research.google.com/notebooks/data_table.ipynb>data table notebook</a>'\n",
              "          + ' to learn more about interactive tables.';\n",
              "        element.innerHTML = '';\n",
              "        dataTable['output_type'] = 'display_data';\n",
              "        await google.colab.output.renderOutput(dataTable, element);\n",
              "        const docLink = document.createElement('div');\n",
              "        docLink.innerHTML = docLinkHtml;\n",
              "        element.appendChild(docLink);\n",
              "      }\n",
              "    </script>\n",
              "  </div>\n",
              "\n",
              "\n",
              "    <div id=\"df-b87b0160-8a62-4967-8600-54819d36b915\">\n",
              "      <button class=\"colab-df-quickchart\" onclick=\"quickchart('df-b87b0160-8a62-4967-8600-54819d36b915')\"\n",
              "                title=\"Suggest charts\"\n",
              "                style=\"display:none;\">\n",
              "\n",
              "<svg xmlns=\"http://www.w3.org/2000/svg\" height=\"24px\"viewBox=\"0 0 24 24\"\n",
              "     width=\"24px\">\n",
              "    <g>\n",
              "        <path d=\"M19 3H5c-1.1 0-2 .9-2 2v14c0 1.1.9 2 2 2h14c1.1 0 2-.9 2-2V5c0-1.1-.9-2-2-2zM9 17H7v-7h2v7zm4 0h-2V7h2v10zm4 0h-2v-4h2v4z\"/>\n",
              "    </g>\n",
              "</svg>\n",
              "      </button>\n",
              "\n",
              "<style>\n",
              "  .colab-df-quickchart {\n",
              "      --bg-color: #E8F0FE;\n",
              "      --fill-color: #1967D2;\n",
              "      --hover-bg-color: #E2EBFA;\n",
              "      --hover-fill-color: #174EA6;\n",
              "      --disabled-fill-color: #AAA;\n",
              "      --disabled-bg-color: #DDD;\n",
              "  }\n",
              "\n",
              "  [theme=dark] .colab-df-quickchart {\n",
              "      --bg-color: #3B4455;\n",
              "      --fill-color: #D2E3FC;\n",
              "      --hover-bg-color: #434B5C;\n",
              "      --hover-fill-color: #FFFFFF;\n",
              "      --disabled-bg-color: #3B4455;\n",
              "      --disabled-fill-color: #666;\n",
              "  }\n",
              "\n",
              "  .colab-df-quickchart {\n",
              "    background-color: var(--bg-color);\n",
              "    border: none;\n",
              "    border-radius: 50%;\n",
              "    cursor: pointer;\n",
              "    display: none;\n",
              "    fill: var(--fill-color);\n",
              "    height: 32px;\n",
              "    padding: 0;\n",
              "    width: 32px;\n",
              "  }\n",
              "\n",
              "  .colab-df-quickchart:hover {\n",
              "    background-color: var(--hover-bg-color);\n",
              "    box-shadow: 0 1px 2px rgba(60, 64, 67, 0.3), 0 1px 3px 1px rgba(60, 64, 67, 0.15);\n",
              "    fill: var(--button-hover-fill-color);\n",
              "  }\n",
              "\n",
              "  .colab-df-quickchart-complete:disabled,\n",
              "  .colab-df-quickchart-complete:disabled:hover {\n",
              "    background-color: var(--disabled-bg-color);\n",
              "    fill: var(--disabled-fill-color);\n",
              "    box-shadow: none;\n",
              "  }\n",
              "\n",
              "  .colab-df-spinner {\n",
              "    border: 2px solid var(--fill-color);\n",
              "    border-color: transparent;\n",
              "    border-bottom-color: var(--fill-color);\n",
              "    animation:\n",
              "      spin 1s steps(1) infinite;\n",
              "  }\n",
              "\n",
              "  @keyframes spin {\n",
              "    0% {\n",
              "      border-color: transparent;\n",
              "      border-bottom-color: var(--fill-color);\n",
              "      border-left-color: var(--fill-color);\n",
              "    }\n",
              "    20% {\n",
              "      border-color: transparent;\n",
              "      border-left-color: var(--fill-color);\n",
              "      border-top-color: var(--fill-color);\n",
              "    }\n",
              "    30% {\n",
              "      border-color: transparent;\n",
              "      border-left-color: var(--fill-color);\n",
              "      border-top-color: var(--fill-color);\n",
              "      border-right-color: var(--fill-color);\n",
              "    }\n",
              "    40% {\n",
              "      border-color: transparent;\n",
              "      border-right-color: var(--fill-color);\n",
              "      border-top-color: var(--fill-color);\n",
              "    }\n",
              "    60% {\n",
              "      border-color: transparent;\n",
              "      border-right-color: var(--fill-color);\n",
              "    }\n",
              "    80% {\n",
              "      border-color: transparent;\n",
              "      border-right-color: var(--fill-color);\n",
              "      border-bottom-color: var(--fill-color);\n",
              "    }\n",
              "    90% {\n",
              "      border-color: transparent;\n",
              "      border-bottom-color: var(--fill-color);\n",
              "    }\n",
              "  }\n",
              "</style>\n",
              "\n",
              "      <script>\n",
              "        async function quickchart(key) {\n",
              "          const quickchartButtonEl =\n",
              "            document.querySelector('#' + key + ' button');\n",
              "          quickchartButtonEl.disabled = true;  // To prevent multiple clicks.\n",
              "          quickchartButtonEl.classList.add('colab-df-spinner');\n",
              "          try {\n",
              "            const charts = await google.colab.kernel.invokeFunction(\n",
              "                'suggestCharts', [key], {});\n",
              "          } catch (error) {\n",
              "            console.error('Error during call to suggestCharts:', error);\n",
              "          }\n",
              "          quickchartButtonEl.classList.remove('colab-df-spinner');\n",
              "          quickchartButtonEl.classList.add('colab-df-quickchart-complete');\n",
              "        }\n",
              "        (() => {\n",
              "          let quickchartButtonEl =\n",
              "            document.querySelector('#df-b87b0160-8a62-4967-8600-54819d36b915 button');\n",
              "          quickchartButtonEl.style.display =\n",
              "            google.colab.kernel.accessAllowed ? 'block' : 'none';\n",
              "        })();\n",
              "      </script>\n",
              "    </div>\n",
              "\n",
              "    </div>\n",
              "  </div>\n"
            ],
            "application/vnd.google.colaboratory.intrinsic+json": {
              "type": "dataframe",
              "summary": "{\n  \"name\": \"confusion_table(y_test, y_pred_sk)\",\n  \"rows\": 2,\n  \"fields\": [\n    {\n      \"column\": \"Predicted\",\n      \"properties\": {\n        \"dtype\": \"number\",\n        \"std\": 0,\n        \"min\": 0,\n        \"max\": 1,\n        \"num_unique_values\": 2,\n        \"samples\": [\n          1,\n          0\n        ],\n        \"semantic_type\": \"\",\n        \"description\": \"\"\n      }\n    },\n    {\n      \"column\": 0,\n      \"properties\": {\n        \"dtype\": \"number\",\n        \"std\": 26,\n        \"min\": 7,\n        \"max\": 44,\n        \"num_unique_values\": 2,\n        \"samples\": [\n          7,\n          44\n        ],\n        \"semantic_type\": \"\",\n        \"description\": \"\"\n      }\n    },\n    {\n      \"column\": 1,\n      \"properties\": {\n        \"dtype\": \"number\",\n        \"std\": 21,\n        \"min\": 5,\n        \"max\": 35,\n        \"num_unique_values\": 2,\n        \"samples\": [\n          35,\n          5\n        ],\n        \"semantic_type\": \"\",\n        \"description\": \"\"\n      }\n    }\n  ]\n}"
            }
          },
          "metadata": {},
          "execution_count": 199
        }
      ]
    },
    {
      "cell_type": "markdown",
      "source": [
        "**Exactitud:** Ambos modelos tienen exactamente la misma exactitud: 82.42%. Es\n",
        "decir, predicen correctamente el mismo número de casos.\n",
        "\n",
        "**Precisión:** El modelo realizado desde cero tiene ligeramente mejor precisión (81.4% vs 80%). Es decir, comete menos falsos positivos, pues predice a los enfermos con más certeza.\n",
        "\n",
        "**Recuperación:** El modelo de sklearn tiene mejor recuperación (83.72% vs 81.4%), lo que indica que detecta más casos positivos reales, aunque a costa de cometer más falsos positivos.\n",
        "\n",
        "**F1 Score:** El modelo de sklearn tiene un F1 ligeramente superior (81.82% vs 81.4%). Es decir, aunque la diferencia es mínima, hay un mejor equilibrio entre precisión y recuperación.\n",
        "\n",
        "***Conclusión:*** El modelo realizado desde cero funciona muy bien y está casi a la par con el de sklearn. Hay una diferencia mínima en el rendimiento, lo que demuestra una implementación correcta y efectiva."
      ],
      "metadata": {
        "id": "XvFVXj0KsGcx"
      }
    },
    {
      "cell_type": "markdown",
      "source": [
        "### PARTE B: Part B. Multiclass Logistic Regression via One-vs-All (OvA)\n"
      ],
      "metadata": {
        "id": "Y-ZdyTcWdmiU"
      }
    },
    {
      "cell_type": "markdown",
      "source": [
        "#### PREPARANDO LOS DATOS"
      ],
      "metadata": {
        "id": "S52LsRdSeXFv"
      }
    },
    {
      "cell_type": "code",
      "source": [
        "import numpy as np\n",
        "from sklearn.datasets import load_wine\n",
        "from sklearn.metrics import confusion_matrix, classification_report, accuracy_score, precision_score, recall_score, f1_score\n",
        "from typing import Tuple, List, Optional, Dict\n",
        "import seaborn as sns\n",
        "import matplotlib.pyplot as plt"
      ],
      "metadata": {
        "id": "bW2iQUSseiJu"
      },
      "execution_count": 200,
      "outputs": []
    },
    {
      "cell_type": "code",
      "source": [
        "wine = load_wine(as_frame=True)\n",
        "Xw_df = wine.data.copy()\n",
        "yw = wine.target.to_numpy()"
      ],
      "metadata": {
        "id": "HrL_uDMiev_1"
      },
      "execution_count": 201,
      "outputs": []
    },
    {
      "cell_type": "markdown",
      "source": [
        "Observamos los datos cargados"
      ],
      "metadata": {
        "id": "ZuRHB8M9f8yF"
      }
    },
    {
      "cell_type": "code",
      "source": [
        "print(f\"\\nDataset cargado:\")\n",
        "print(f\"   Clases: {len(np.unique(yw))} (cultivares de vino)\")\n",
        "print(f\"   Features: {Xw_df.shape[1]} (características químicas)\")\n",
        "print(f\"   Muestras: {Xw_df.shape[0]}\")\n",
        "print(f\"   Nombres de clases: {wine.target_names}\")"
      ],
      "metadata": {
        "colab": {
          "base_uri": "https://localhost:8080/"
        },
        "id": "80ckozPpgAAy",
        "outputId": "58335a89-218e-48c1-b88e-8538f9e1b8d9"
      },
      "execution_count": 202,
      "outputs": [
        {
          "output_type": "stream",
          "name": "stdout",
          "text": [
            "\n",
            "Dataset cargado:\n",
            "   Clases: 3 (cultivares de vino)\n",
            "   Features: 13 (características químicas)\n",
            "   Muestras: 178\n",
            "   Nombres de clases: ['class_0' 'class_1' 'class_2']\n"
          ]
        }
      ]
    },
    {
      "cell_type": "markdown",
      "source": [
        "Estandarizamos y separamos nuestra data en training (70%) y testing (30%)"
      ],
      "metadata": {
        "id": "EsBBm0C9gST-"
      }
    },
    {
      "cell_type": "code",
      "source": [
        "def train_test_split_index(n: int, train_ratio: float = 0.7, shuffle: bool = True, seed: int = 42):\n",
        "    \"\"\"Divide índices en train/test de manera reproducible.\"\"\"\n",
        "    idx = np.arange(n)\n",
        "    if shuffle:\n",
        "        rng = np.random.default_rng(seed)\n",
        "        rng.shuffle(idx)\n",
        "    cut = int(n * train_ratio)\n",
        "    return idx[:cut], idx[cut:]\n",
        "\n",
        "def standardize_fit(X: np.ndarray) -> Tuple[np.ndarray, np.ndarray, np.ndarray]:\n",
        "    \"\"\"Estandariza features (fit): X_std = (X - mu) / sigma.\"\"\"\n",
        "    mu = X.mean(axis=0, keepdims=True)\n",
        "    sigma = X.std(axis=0, ddof=0, keepdims=True)\n",
        "    sigma[sigma == 0.0] = 1.0  # Evitar división por cero\n",
        "    return (X - mu) / sigma, mu, sigma"
      ],
      "metadata": {
        "id": "IcsDirYxhoMI"
      },
      "execution_count": 203,
      "outputs": []
    },
    {
      "cell_type": "code",
      "source": [
        "Xw, mu_w, sigma_w = standardize_fit(Xw_df.to_numpy().astype(float))\n",
        "\n",
        "idx_tr_w, idx_te_w = train_test_split_index(len(Xw), train_ratio=0.7, seed=42)\n",
        "Xw_tr, Xw_te = Xw[idx_tr_w], Xw[idx_te_w]\n",
        "yw_tr, yw_te = yw[idx_tr_w], yw[idx_te_w]\n",
        "\n",
        "print(f\"\\nSplit 70/30:\")\n",
        "print(f\"   Train: {len(yw_tr)} muestras\")\n",
        "print(f\"   Test:  {len(yw_te)} muestras\")"
      ],
      "metadata": {
        "colab": {
          "base_uri": "https://localhost:8080/"
        },
        "id": "1izR4lIYhS4M",
        "outputId": "fd5bc84c-6ad4-42e3-d430-ec0547b9aed1"
      },
      "execution_count": 204,
      "outputs": [
        {
          "output_type": "stream",
          "name": "stdout",
          "text": [
            "\n",
            "Split 70/30:\n",
            "   Train: 124 muestras\n",
            "   Test:  54 muestras\n"
          ]
        }
      ]
    },
    {
      "cell_type": "markdown",
      "source": [
        "#### DE MANERA MANUAL"
      ],
      "metadata": {
        "id": "aYZCxNwWnPQO"
      }
    },
    {
      "cell_type": "markdown",
      "source": [
        "Entrenamos los 3 clasificadores binarios (One-vs-All)"
      ],
      "metadata": {
        "id": "YvaJxRqOiSgd"
      }
    },
    {
      "cell_type": "code",
      "source": [
        "K = len(np.unique(yw))\n",
        "ovr_models = []\n",
        "\n",
        "print(f\"\\nEntrenando {K} clasificadores binarios (One-vs-All)...\")\n",
        "for k in range(K):\n",
        "    yk_tr = (yw_tr == k).astype(int)  # Binarizar: clase k vs resto\n",
        "    clf_k = LogRegression(lr=0.2, n_iter=2000).fit(Xw_tr, yk_tr)\n",
        "    ovr_models.append(clf_k)\n",
        "    print(f\"   Clasificador {k} ({wine.target_names[k]}) entrenado\")"
      ],
      "metadata": {
        "colab": {
          "base_uri": "https://localhost:8080/"
        },
        "id": "8-GTcaMFiZID",
        "outputId": "8dc3690c-7429-4ec7-8eb8-b09fd013aa30"
      },
      "execution_count": 205,
      "outputs": [
        {
          "output_type": "stream",
          "name": "stdout",
          "text": [
            "\n",
            "Entrenando 3 clasificadores binarios (One-vs-All)...\n",
            "   Clasificador 0 (class_0) entrenado\n",
            "   Clasificador 1 (class_1) entrenado\n",
            "   Clasificador 2 (class_2) entrenado\n"
          ]
        }
      ]
    },
    {
      "cell_type": "markdown",
      "source": [
        "Realizamos las predicciones"
      ],
      "metadata": {
        "id": "wZnTD7l4i5wR"
      }
    },
    {
      "cell_type": "code",
      "source": [
        "print(f\"\\nRealizando predicciones (argmax de probabilidades)...\")\n",
        "P = np.column_stack([m.predict_proba(Xw_te) for m in ovr_models])\n",
        "y_pred_ova = P.argmax(axis=1)\n",
        "\n",
        "acc_ova = accuracy_score(yw_te, y_pred_ova)\n",
        "print(f\"\\nAccuracy (OvA from scratch): {acc_ova:.4f} ({acc_ova*100:.2f}%)\")"
      ],
      "metadata": {
        "colab": {
          "base_uri": "https://localhost:8080/"
        },
        "id": "kgoIBac-i8aQ",
        "outputId": "6f37ddbd-3552-4d83-84c0-a3bb6d2b5fa7"
      },
      "execution_count": 206,
      "outputs": [
        {
          "output_type": "stream",
          "name": "stdout",
          "text": [
            "\n",
            "Realizando predicciones (argmax de probabilidades)...\n",
            "\n",
            "Accuracy (OvA from scratch): 1.0000 (100.00%)\n"
          ]
        }
      ]
    },
    {
      "cell_type": "markdown",
      "source": [
        "Hacemos la clasificación para evaluar la precisión, recall y el f1."
      ],
      "metadata": {
        "id": "KKAqc2Y2mX9t"
      }
    },
    {
      "cell_type": "code",
      "source": [
        "print(f\"\\nClassification Report (OvA):\")\n",
        "print(classification_report(yw_te, y_pred_ova,\n",
        "                          target_names=wine.target_names,\n",
        "                          zero_division=0))"
      ],
      "metadata": {
        "colab": {
          "base_uri": "https://localhost:8080/"
        },
        "id": "zFJXe8ipmiCi",
        "outputId": "a40a653e-8120-4ab6-a184-2e07143416a0"
      },
      "execution_count": 207,
      "outputs": [
        {
          "output_type": "stream",
          "name": "stdout",
          "text": [
            "\n",
            "Classification Report (OvA):\n",
            "              precision    recall  f1-score   support\n",
            "\n",
            "     class_0       1.00      1.00      1.00        24\n",
            "     class_1       1.00      1.00      1.00        14\n",
            "     class_2       1.00      1.00      1.00        16\n",
            "\n",
            "    accuracy                           1.00        54\n",
            "   macro avg       1.00      1.00      1.00        54\n",
            "weighted avg       1.00      1.00      1.00        54\n",
            "\n"
          ]
        }
      ]
    },
    {
      "cell_type": "code",
      "source": [
        "cm_ova = confusion_matrix(yw_te, y_pred_ova)\n",
        "plt.figure(figsize=(7,6))\n",
        "sns.heatmap(cm_ova, annot=True, fmt='d', cmap='YlOrRd',\n",
        "            xticklabels=wine.target_names,\n",
        "            yticklabels=wine.target_names,\n",
        "            cbar_kws={'label': 'Frecuencia'})\n",
        "plt.title('Matriz de Confusión - One-vs-All (Scratch)', fontsize=13, fontweight='bold')\n",
        "plt.ylabel('Etiqueta Real', fontsize=11)\n",
        "plt.xlabel('Predicción', fontsize=11)\n",
        "plt.tight_layout()\n",
        "plt.show()"
      ],
      "metadata": {
        "id": "IZyHiK9WgKWS",
        "colab": {
          "base_uri": "https://localhost:8080/",
          "height": 607
        },
        "outputId": "4e07e891-fb10-4db0-adff-91c4992e1ff8"
      },
      "execution_count": 208,
      "outputs": [
        {
          "output_type": "display_data",
          "data": {
            "text/plain": [
              "<Figure size 700x600 with 2 Axes>"
            ],
            "image/png": "[encoded data removed]"
          },
          "metadata": {}
        }
      ]
    },
    {
      "cell_type": "markdown",
      "source": [
        "#### CON EL SKLEARN"
      ],
      "metadata": {
        "id": "LzOBwn3GnU2u"
      }
    },
    {
      "cell_type": "markdown",
      "source": [
        "Entrenamos el modelo de clasificación multiclase usando regresión logística. Luego, predecimos sobre los datos de prueba y calculamos la precisión."
      ],
      "metadata": {
        "id": "JDrgmwbEolWO"
      }
    },
    {
      "cell_type": "code",
      "source": [
        "sk_ova = LogisticRegression(max_iter=5000, multi_class=\"ovr\", solver='lbfgs', random_state=42)\n",
        "sk_ova.fit(Xw_tr, yw_tr)\n",
        "y_pred_sk_ovr = sk_ova.predict(Xw_te)\n",
        "\n",
        "acc_sk_ovr = accuracy_score(yw_te, y_pred_sk_ovr)\n",
        "print(f\"\\nAccuracy (sklearn OvR): {acc_sk_ovr:.4f} ({acc_sk_ovr*100:.2f}%)\")"
      ],
      "metadata": {
        "colab": {
          "base_uri": "https://localhost:8080/"
        },
        "id": "nvny3tAtoi6n",
        "outputId": "efa571c3-9dc3-4d4c-ef5e-ee8eaac03003"
      },
      "execution_count": 209,
      "outputs": [
        {
          "output_type": "stream",
          "name": "stderr",
          "text": [
            "/usr/local/lib/python3.12/dist-packages/sklearn/linear_model/_logistic.py:1256: FutureWarning: 'multi_class' was deprecated in version 1.5 and will be removed in 1.7. Use OneVsRestClassifier(LogisticRegression(..)) instead. Leave it to its default value to avoid this warning.\n",
            "  warnings.warn(\n"
          ]
        },
        {
          "output_type": "stream",
          "name": "stdout",
          "text": [
            "\n",
            "Accuracy (sklearn OvR): 1.0000 (100.00%)\n"
          ]
        }
      ]
    },
    {
      "cell_type": "markdown",
      "source": [
        "Hacemos la clasificación para evaluar la precisión, recall y el f1."
      ],
      "metadata": {
        "id": "MyiNIKIKnXSN"
      }
    },
    {
      "cell_type": "code",
      "source": [
        "print(f\"\\nClassification Report (sklearn):\")\n",
        "print(classification_report(yw_te, y_pred_sk_ovr,\n",
        "                          target_names=wine.target_names,\n",
        "                          zero_division=0))"
      ],
      "metadata": {
        "colab": {
          "base_uri": "https://localhost:8080/"
        },
        "id": "ERH-qGZqnbst",
        "outputId": "b66e9a62-d24a-4d33-a596-88d56c224fda"
      },
      "execution_count": 210,
      "outputs": [
        {
          "output_type": "stream",
          "name": "stdout",
          "text": [
            "\n",
            "Classification Report (sklearn):\n",
            "              precision    recall  f1-score   support\n",
            "\n",
            "     class_0       1.00      1.00      1.00        24\n",
            "     class_1       1.00      1.00      1.00        14\n",
            "     class_2       1.00      1.00      1.00        16\n",
            "\n",
            "    accuracy                           1.00        54\n",
            "   macro avg       1.00      1.00      1.00        54\n",
            "weighted avg       1.00      1.00      1.00        54\n",
            "\n"
          ]
        }
      ]
    },
    {
      "cell_type": "markdown",
      "source": [
        "#### COMPARAMOS LOS COEFICIENTES"
      ],
      "metadata": {
        "id": "j5YNy9WRrRon"
      }
    },
    {
      "cell_type": "markdown",
      "source": [
        "Comparación de dimensiones de coeficientes:"
      ],
      "metadata": {
        "id": "UYwqsW_VrfZ3"
      }
    },
    {
      "cell_type": "code",
      "source": [
        "print(f\"\\nComparación de dimensiones de coeficientes:\")\n",
        "print(f\"   From-Scratch: {K} modelos, cada uno con shape {ovr_models[0].weights.shape}\")\n",
        "print(f\"   Sklearn:      coef_ shape = {sk_ova.coef_.shape}\")"
      ],
      "metadata": {
        "colab": {
          "base_uri": "https://localhost:8080/"
        },
        "id": "MJM0eTvzrWBA",
        "outputId": "252d624c-3773-4d9f-990a-1ede59e59362"
      },
      "execution_count": 211,
      "outputs": [
        {
          "output_type": "stream",
          "name": "stdout",
          "text": [
            "\n",
            "Comparación de dimensiones de coeficientes:\n",
            "   From-Scratch: 3 modelos, cada uno con shape (13,)\n",
            "   Sklearn:      coef_ shape = (3, 13)\n"
          ]
        }
      ]
    },
    {
      "cell_type": "markdown",
      "source": [
        "Comparación de Accuracy"
      ],
      "metadata": {
        "id": "SvCLrNkbrkB3"
      }
    },
    {
      "cell_type": "code",
      "source": [
        "print(f\"\\nComparación de Accuracy:\")\n",
        "print(f\"   From-Scratch (OvA): {acc_ova:.4f}\")\n",
        "print(f\"   Sklearn (OvR):      {acc_sk_ovr:.4f}\")\n",
        "print(f\"   Diferencia:         {abs(acc_ova - acc_sk_ovr):.4f}\")"
      ],
      "metadata": {
        "colab": {
          "base_uri": "https://localhost:8080/"
        },
        "id": "1FI9PIr0rdm3",
        "outputId": "348a7fd6-37d7-4ff3-f4f2-86fdd314c571"
      },
      "execution_count": 212,
      "outputs": [
        {
          "output_type": "stream",
          "name": "stdout",
          "text": [
            "\n",
            "Comparación de Accuracy:\n",
            "   From-Scratch (OvA): 1.0000\n",
            "   Sklearn (OvR):      1.0000\n",
            "   Diferencia:         0.0000\n"
          ]
        }
      ]
    },
    {
      "cell_type": "markdown",
      "source": [
        "Matriz de confusión de Sklearn"
      ],
      "metadata": {
        "id": "VL9TsEozrUtP"
      }
    },
    {
      "cell_type": "code",
      "source": [
        "\n",
        "cm_sk_ovr = confusion_matrix(yw_te, y_pred_sk_ovr)\n",
        "plt.figure(figsize=(7,6))\n",
        "sns.heatmap(cm_sk_ovr, annot=True, fmt='d', cmap='YlOrRd',\n",
        "            xticklabels=wine.target_names,\n",
        "            yticklabels=wine.target_names,\n",
        "            cbar_kws={'label': 'Frecuencia'})\n",
        "plt.title('Matriz de Confusión - Sklearn OvR', fontsize=13, fontweight='bold')\n",
        "plt.ylabel('Etiqueta Real', fontsize=11)\n",
        "plt.xlabel('Predicción', fontsize=11)\n",
        "plt.tight_layout()\n",
        "plt.show()"
      ],
      "metadata": {
        "colab": {
          "base_uri": "https://localhost:8080/",
          "height": 607
        },
        "id": "_YbBQrAXnXrd",
        "outputId": "112d79b5-f3a4-4698-8390-06e81103c522"
      },
      "execution_count": 213,
      "outputs": [
        {
          "output_type": "display_data",
          "data": {
            "text/plain": [
              "<Figure size 700x600 with 2 Axes>"
            ],
            "image/png": "[encoded data removed]"
          },
          "metadata": {}
        }
      ]
    },
    {
      "cell_type": "markdown",
      "source": [
        "Ambos tienen el mismo rendimiento"
      ],
      "metadata": {
        "id": "WsPiVuX4sAa7"
      }
    },
    {
      "cell_type": "markdown",
      "source": [
        "###PARTE C: Regresión Logística multinominal (Softmax) desde cero"
      ],
      "metadata": {
        "id": "80zaX_oCwI-K"
      }
    },
    {
      "cell_type": "code",
      "source": [
        "from dataclasses import dataclass\n",
        "@dataclass\n",
        "class SoftmaxRegressionScratch:\n",
        "    lr: float = 0.1\n",
        "    n_iter: int = 3000\n",
        "    fit_intercept: bool = True\n",
        "    l2: float = 0.0\n",
        "    history_: Dict[str, List[float]] = None\n",
        "    W_: Optional[np.ndarray] = None  # (d x K) weight matrix\n",
        "\n",
        "    def _add_intercept(self, X: np.ndarray) -> np.ndarray:\n",
        "        \"\"\"Add bias column to feature matrix.\"\"\"\n",
        "        if not self.fit_intercept:\n",
        "            return X\n",
        "        return np.concatenate([np.ones((X.shape[0], 1)), X], axis=1)\n",
        "\n",
        "    @staticmethod\n",
        "    def _softmax(Z: np.ndarray) -> np.ndarray:\n",
        "        \"\"\"\n",
        "        Compute softmax probabilities with numerical stability.\n",
        "\n",
        "        \"\"\"\n",
        "        # Numerical stability: subtract max from each row\n",
        "        Z_stable = Z - Z.max(axis=1, keepdims=True)\n",
        "\n",
        "        # Clip to prevent overflow\n",
        "        Z_stable = np.clip(Z_stable, -500, 500)\n",
        "\n",
        "        # Compute exp and normalize\n",
        "        expZ = np.exp(Z_stable)\n",
        "        P = expZ / expZ.sum(axis=1, keepdims=True)\n",
        "\n",
        "        return P\n",
        "\n",
        "    def _log_likelihood(self, X: np.ndarray, Y: np.ndarray) -> float:\n",
        "        \"\"\"\n",
        "        Compute log-likelihood: ℓ(θ) = Σ[y_i * log(p_i)]\n",
        "        \"\"\"\n",
        "        Z = X @ self.W_\n",
        "        P = self._softmax(Z)\n",
        "\n",
        "        # Log-likelihood (not negative!)\n",
        "        ll = np.sum(Y * np.log(P + 1e-12))\n",
        "\n",
        "        # Add L2 regularization penalty (subtracts from log-likelihood)\n",
        "        if self.l2 > 0:\n",
        "            ll -= 0.5 * self.l2 * np.sum(self.W_[1:]**2)\n",
        "\n",
        "        return ll\n",
        "\n",
        "    def fit(self, X: np.ndarray, y: np.ndarray, verbose: bool = False):\n",
        "        \"\"\"\n",
        "        Fit softmax regression using gradient ascent on log-likelihood.\n",
        "        \"\"\"\n",
        "        Xb = self._add_intercept(X)\n",
        "        n, d = Xb.shape\n",
        "        K = int(np.max(y)) + 1\n",
        "\n",
        "        # Initialize weights\n",
        "        self.W_ = np.zeros((d, K))\n",
        "        self.history_ = {\"log_likelihood\": [], \"iteration\": []}\n",
        "\n",
        "        # Convert labels to one-hot encoding\n",
        "        Y = np.zeros((n, K), dtype=float)\n",
        "        Y[np.arange(n), y] = 1.0\n",
        "\n",
        "        # Gradient ascent loop\n",
        "        for t in range(self.n_iter):\n",
        "            # Compute predictions\n",
        "            Z = Xb @ self.W_\n",
        "            P = self._softmax(Z)\n",
        "\n",
        "            # Compute and store log-likelihood\n",
        "            ll = self._log_likelihood(Xb, Y)\n",
        "            self.history_[\"log_likelihood\"].append(ll)\n",
        "            self.history_[\"iteration\"].append(t)\n",
        "\n",
        "            # Compute gradient of log-likelihood\n",
        "            # ∇ℓ(θ) = X^T(Y - P)\n",
        "            grad = (Xb.T @ (Y - P)) / n\n",
        "\n",
        "            # Add L2 regularization gradient (don't regularize intercept)\n",
        "            if self.l2 > 0:\n",
        "                grad[1:] -= self.l2 * self.W_[1:] / n\n",
        "\n",
        "            # Gradient ASCENT (maximize log-likelihood)\n",
        "            self.W_ += self.lr * grad\n",
        "\n",
        "            # Optional progress printing\n",
        "            if verbose and t % 500 == 0:\n",
        "                print(f\"Iteration {t:5d}. Log-likelihood: {ll:.6f}\")\n",
        "\n",
        "        if verbose:\n",
        "            print(f\"Iteration {self.n_iter:5d}. Log-likelihood: {ll:.6f}\")\n",
        "\n",
        "        return self\n",
        "\n",
        "    def predict_proba(self, X: np.ndarray) -> np.ndarray:\n",
        "        \"\"\"\n",
        "        Predict class probabilities.\n",
        "        \"\"\"\n",
        "        Xb = self._add_intercept(X)\n",
        "        Z = Xb @ self.W_\n",
        "        return self._softmax(Z)\n",
        "\n",
        "    def predict(self, X: np.ndarray) -> np.ndarray:\n",
        "        \"\"\"\n",
        "        Predict class labels.\n",
        "        \"\"\"\n",
        "        P = self.predict_proba(X)\n",
        "        return P.argmax(axis=1)"
      ],
      "metadata": {
        "id": "VLNuBhYzGgp0"
      },
      "execution_count": 214,
      "outputs": []
    },
    {
      "cell_type": "code",
      "source": [
        "print(\"=\"*70)\n",
        "print(\"PARTE C: MULTINOMIAL (SOFTMAX) REGRESSION - DATASET WINE\")\n",
        "print(\"=\"*70)\n",
        "\n",
        "try:\n",
        "    _ = Xw_tr\n",
        "except NameError:\n",
        "    # Recreate Wine dataset preprocessing\n",
        "    wine = load_wine(as_frame=True)\n",
        "    X_wine = wine.data.to_numpy().astype(float)\n",
        "    y_wine = wine.target.to_numpy()\n",
        "\n",
        "    idx_tr, idx_te = train_test_split_index(len(X_wine), train_ratio=0.7, seed=42)\n",
        "    Xw_tr, Xw_te = X_wine[idx_tr], X_wine[idx_te]\n",
        "    yw_tr, yw_te = y_wine[idx_tr], y_wine[idx_te]\n",
        "\n",
        "    # Standardize\n",
        "    Xw_tr, mu_w, sigma_w = standardize_fit(Xw_tr)\n",
        "    Xw_te = standardize_transform(Xw_te, mu_w, sigma_w)\n",
        "    print(f\"\\nWine dataset loaded and preprocessed:\")\n",
        "    print(f\"   Train: {Xw_tr.shape}, Test: {Xw_te.shape}\")\n",
        "\n",
        "print(f\"\\n{'='*70}\")\n",
        "print(\"IMPLEMENTACIÓN: GRADIENT ASCENT MAXIMIZANDO LOG-LIKELIHOOD\")\n",
        "print(f\"{'='*70}\")\n",
        "\n",
        "# Training with verbose output\n",
        "print(f\"\\nEntrenando modelo Softmax Regression...\")\n",
        "print(f\"   Learning rate: 0.2\")\n",
        "print(f\"   Max iterations: 3000\")\n",
        "print(f\"   Optimización: Gradient Ascent (maximizar log-likelihood)\")\n",
        "print(f\"\\nMonitoreo de convergencia (cada 500 iteraciones):\")\n",
        "\n",
        "softmax_clf = SoftmaxRegressionScratch(lr=0.2, n_iter=3000, l2=0.0).fit(\n",
        "    Xw_tr, yw_tr, verbose=True\n",
        ")\n",
        "\n",
        "print(f\"\\n✓ Entrenamiento completado\")\n",
        "print(f\"   Forma de W_: {softmax_clf.W_.shape} (incluye intercepto)\")\n",
        "print(f\"   Log-likelihood final: {softmax_clf.history_['log_likelihood'][-1]:.6f}\")\n",
        "\n",
        "# Plot log-likelihood convergence\n",
        "print(f\"\\n{'='*70}\")\n",
        "print(\"CONVERGENCIA DE LOG-LIKELIHOOD\")\n",
        "print(f\"{'='*70}\")\n",
        "\n",
        "fig, axes = plt.subplots(1, 2, figsize=(14, 5))\n",
        "\n",
        "# Full convergence curve\n",
        "axes[0].plot(softmax_clf.history_[\"iteration\"],\n",
        "            softmax_clf.history_[\"log_likelihood\"],\n",
        "            linewidth=2, color='darkviolet')\n",
        "axes[0].set_xlabel(\"Iteración\", fontsize=12)\n",
        "axes[0].set_ylabel(\"Log-Likelihood ℓ(θ)\", fontsize=12)\n",
        "axes[0].set_title(\"Convergencia completa - Softmax Regression\", fontsize=13, fontweight='bold')\n",
        "axes[0].grid(True, alpha=0.3)\n",
        "\n",
        "# Zoomed-in last 1000 iterations\n",
        "last_n = min(1000, len(softmax_clf.history_[\"iteration\"]))\n",
        "axes[1].plot(softmax_clf.history_[\"iteration\"][-last_n:],\n",
        "            softmax_clf.history_[\"log_likelihood\"][-last_n:],\n",
        "            linewidth=2, color='darkviolet')\n",
        "axes[1].set_xlabel(\"Iteración\", fontsize=12)\n",
        "axes[1].set_ylabel(\"Log-Likelihood ℓ(θ)\", fontsize=12)\n",
        "axes[1].set_title(f\"Últimas {last_n} iteraciones (zoom)\", fontsize=13, fontweight='bold')\n",
        "axes[1].grid(True, alpha=0.3)\n",
        "\n",
        "plt.tight_layout()\n",
        "plt.show()\n",
        "\n",
        "# Analysis of convergence\n",
        "ll_values = softmax_clf.history_[\"log_likelihood\"]\n",
        "ll_start = ll_values[0]\n",
        "ll_end = ll_values[-1]\n",
        "ll_improvement = ll_end - ll_start\n",
        "\n",
        "print(f\"\\nAnálisis de convergencia:\")\n",
        "print(f\"   Log-likelihood inicial:   {ll_start:.6f}\")\n",
        "print(f\"   Log-likelihood final:     {ll_end:.6f}\")\n",
        "print(f\"   Mejora total:             {ll_improvement:.6f}\")\n",
        "print(f\"   Mejora últimas 100 iters: {ll_values[-1] - ll_values[-100]:.6f}\")\n",
        "\n",
        "# Check convergence stability\n",
        "if len(ll_values) > 100:\n",
        "    recent_variance = np.var(ll_values[-100:])\n",
        "    print(f\"   Varianza últimas 100:     {recent_variance:.8f}\")\n",
        "    if recent_variance < 1e-6:\n",
        "        print(f\"   Estado: ✓ Convergencia estable alcanzada\")\n",
        "    else:\n",
        "        print(f\"   Estado: ⚠ Podría beneficiarse de más iteraciones\")\n",
        "\n",
        "print(\"\\n\" + \"=\"*70)\n",
        "print(\"EVALUACIÓN EN TEST SET\")\n",
        "print(\"=\"*70)\n",
        "\n",
        "# Predictions\n",
        "y_pred_softmax = softmax_clf.predict(Xw_te)\n",
        "y_pred_proba_softmax = softmax_clf.predict_proba(Xw_te)\n",
        "\n",
        "# Metrics\n",
        "acc_softmax = accuracy_score(yw_te, y_pred_softmax)\n",
        "print(f\"\\nAccuracy (Softmax from scratch): {acc_softmax:.4f} ({acc_softmax*100:.2f}%)\")\n",
        "\n",
        "# Per-class precision, recall, F1\n",
        "from sklearn.metrics import precision_recall_fscore_support\n",
        "prec_soft, rec_soft, f1_soft, support_soft = precision_recall_fscore_support(\n",
        "    yw_te, y_pred_softmax, labels=[0,1,2], zero_division=0\n",
        ")\n",
        "\n",
        "print(f\"\\n Métricas por clase:\")\n",
        "print(f\"{'Clase':<20} {'Precision':<12} {'Recall':<12} {'F1-Score':<12} {'Support':<10}\")\n",
        "print(\"-\" * 66)\n",
        "for i, name in enumerate(wine.target_names):\n",
        "    print(f\"{name:<20} {prec_soft[i]:<12.4f} {rec_soft[i]:<12.4f} {f1_soft[i]:<12.4f} {support_soft[i]:<10}\")\n",
        "\n",
        "# Overall metrics\n",
        "macro_prec = np.mean(prec_soft)\n",
        "macro_rec = np.mean(rec_soft)\n",
        "macro_f1 = np.mean(f1_soft)\n",
        "\n",
        "print(f\"\\n{'Macro-average':<20} {macro_prec:<12.4f} {macro_rec:<12.4f} {macro_f1:<12.4f}\")\n",
        "\n",
        "# Classification Report\n",
        "print(f\"Classification Report completo:\")\n",
        "print(classification_report(yw_te, y_pred_softmax,\n",
        "                          target_names=wine.target_names,\n",
        "                          zero_division=0))\n",
        "\n",
        "# Confusion Matrix\n",
        "cm_softmax = confusion_matrix(yw_te, y_pred_softmax)\n",
        "print(f\"\\n Matriz de Confusión:\")\n",
        "plt.figure(figsize=(8,6))\n",
        "sns.heatmap(cm_softmax, annot=True, fmt='d', cmap='Purples',\n",
        "            xticklabels=wine.target_names,\n",
        "            yticklabels=wine.target_names,\n",
        "            cbar_kws={'label': 'Frecuencia'},\n",
        "            annot_kws={'size': 14, 'weight': 'bold'})\n",
        "plt.title('\\n Matriz de Confusión - Softmax Regression (From Scratch)',\n",
        "         fontsize=14, fontweight='bold', pad=15)\n",
        "plt.ylabel('Etiqueta Real', fontsize=12)\n",
        "plt.xlabel('Predicción', fontsize=12)\n",
        "plt.tight_layout()\n",
        "plt.show()\n",
        "\n",
        "# Detailed confusion matrix analysis\n",
        "print(f\"\\n Análisis detallado de la matriz de confusión:\")\n",
        "for i, name in enumerate(wine.target_names):\n",
        "    correct = cm_softmax[i, i]\n",
        "    total = support_soft[i]\n",
        "    if total > 0:\n",
        "        print(f\"   {name}: {correct}/{total} correctas ({correct/total*100:.1f}%)\")\n",
        "\n",
        "print(\"\\n\" + \"=\"*70)"
      ],
      "metadata": {
        "colab": {
          "base_uri": "https://localhost:8080/",
          "height": 1000
        },
        "id": "eTQ9DZ7uHHdd",
        "outputId": "d88b4c3c-6ef1-419b-cde1-ee31d7f25cca"
      },
      "execution_count": 215,
      "outputs": [
        {
          "output_type": "stream",
          "name": "stdout",
          "text": [
            "======================================================================\n",
            "PARTE C: MULTINOMIAL (SOFTMAX) REGRESSION - DATASET WINE\n",
            "======================================================================\n",
            "\n",
            "======================================================================\n",
            "IMPLEMENTACIÓN: GRADIENT ASCENT MAXIMIZANDO LOG-LIKELIHOOD\n",
            "======================================================================\n",
            "\n",
            "Entrenando modelo Softmax Regression...\n",
            "   Learning rate: 0.2\n",
            "   Max iterations: 3000\n",
            "   Optimización: Gradient Ascent (maximizar log-likelihood)\n",
            "\n",
            "Monitoreo de convergencia (cada 500 iteraciones):\n",
            "Iteration     0. Log-likelihood: -136.227924\n",
            "Iteration   500. Log-likelihood: -2.916929\n",
            "Iteration  1000. Log-likelihood: -1.798598\n",
            "Iteration  1500. Log-likelihood: -1.327140\n",
            "Iteration  2000. Log-likelihood: -1.059140\n",
            "Iteration  2500. Log-likelihood: -0.884274\n",
            "Iteration  3000. Log-likelihood: -0.760697\n",
            "\n",
            "✓ Entrenamiento completado\n",
            "   Forma de W_: (14, 3) (incluye intercepto)\n",
            "   Log-likelihood final: -0.760697\n",
            "\n",
            "======================================================================\n",
            "CONVERGENCIA DE LOG-LIKELIHOOD\n",
            "======================================================================\n"
          ]
        },
        {
          "output_type": "display_data",
          "data": {
            "text/plain": [
              "<Figure size 1400x500 with 2 Axes>"
            ],
            "image/png": "[encoded data removed]"
          },
          "metadata": {}
        },
        {
          "output_type": "stream",
          "name": "stdout",
          "text": [
            "\n",
            "Análisis de convergencia:\n",
            "   Log-likelihood inicial:   -136.227924\n",
            "   Log-likelihood final:     -0.760697\n",
            "   Mejora total:             135.467226\n",
            "   Mejora últimas 100 iters: 0.021589\n",
            "   Varianza últimas 100:     0.00003962\n",
            "   Estado: ⚠ Podría beneficiarse de más iteraciones\n",
            "\n",
            "======================================================================\n",
            "EVALUACIÓN EN TEST SET\n",
            "======================================================================\n",
            "\n",
            "Accuracy (Softmax from scratch): 1.0000 (100.00%)\n",
            "\n",
            " Métricas por clase:\n",
            "Clase                Precision    Recall       F1-Score     Support   \n",
            "------------------------------------------------------------------\n",
            "class_0              1.0000       1.0000       1.0000       24        \n",
            "class_1              1.0000       1.0000       1.0000       14        \n",
            "class_2              1.0000       1.0000       1.0000       16        \n",
            "\n",
            "Macro-average        1.0000       1.0000       1.0000      \n",
            "Classification Report completo:\n",
            "              precision    recall  f1-score   support\n",
            "\n",
            "     class_0       1.00      1.00      1.00        24\n",
            "     class_1       1.00      1.00      1.00        14\n",
            "     class_2       1.00      1.00      1.00        16\n",
            "\n",
            "    accuracy                           1.00        54\n",
            "   macro avg       1.00      1.00      1.00        54\n",
            "weighted avg       1.00      1.00      1.00        54\n",
            "\n",
            "\n",
            " Matriz de Confusión:\n"
          ]
        },
        {
          "output_type": "display_data",
          "data": {
            "text/plain": [
              "<Figure size 800x600 with 2 Axes>"
            ],
            "image/png": "[encoded data removed]"
          },
          "metadata": {}
        },
        {
          "output_type": "stream",
          "name": "stdout",
          "text": [
            "\n",
            " Análisis detallado de la matriz de confusión:\n",
            "   class_0: 24/24 correctas (100.0%)\n",
            "   class_1: 14/14 correctas (100.0%)\n",
            "   class_2: 16/16 correctas (100.0%)\n",
            "\n",
            "======================================================================\n"
          ]
        }
      ]
    },
    {
      "cell_type": "markdown",
      "source": [
        "## <a id=\"ensayo\"></a>Mini Ensayo\n",
        "\n",
        "### Diferencias entre los gradientes: Binaria, OvA y Multinomial\n",
        "\n",
        "Durante este proyecto implementamos tres enfoques diferentes para clasificación: regresión logística binaria, One-vs-All y Softmax multinomial. Aunque los tres usan funciones similares, sus gradientes funcionan de manera distinta.\n",
        "\n",
        "En la **regresión logística binaria**, trabajamos con una sola función sigmoide que nos da la probabilidad de pertenecer a la clase positiva. El gradiente es relativamente simple: $X^T(p - y)$, donde $p$ son las probabilidades predichas e $y$ son las etiquetas reales. Lo interesante es que este gradiente nos dice exactamente cuánto ajustar cada peso basándose en el error de predicción. Si predecimos 0.8 pero la etiqueta real es 1, el error es -0.2, y los pesos se ajustan en consecuencia.\n",
        "\n",
        "Para **One-vs-All**, básicamente entrenamos tres clasificadores binarios independientes (uno para cada clase de vino). Cada clasificador usa el mismo gradiente binario, pero con etiquetas recodificadas. Por ejemplo, el clasificador para class_0 trata esa clase como 1 y todas las demás como 0. Al final, para predecir una nueva muestra, calculamos las probabilidades de los tres clasificadores y elegimos la clase con mayor probabilidad. El problema aquí es que como los clasificadores son independientes, las probabilidades no necesariamente suman 1.\n",
        "\n",
        "El **Softmax multinomial** es diferente porque entrena todos los pesos juntos en una sola matriz $W$. Su gradiente es $X^T(P - Y)$, donde $P$ es una matriz de probabilidades (una columna por clase) e $Y$ es la matriz one-hot de las etiquetas. Lo importante aquí es que cuando aumentas la probabilidad de una clase, automáticamente reduces la de las otras debido a la normalización del softmax. Esto garantiza que las probabilidades siempre sumen 1 y estén mejor calibradas.\n",
        "\n",
        "### Estabilidad numérica en Softmax\n",
        "\n",
        "Un problema que encontramos al implementar softmax es el overflow numérico. La función calcula exponenciales de los scores: $p_{ik} = \\frac{\\exp(z_{ik})}{\\sum_j \\exp(z_{ij})}$. Si algún $z$ es muy grande (digamos 1000), `np.exp(1000)` resulta en infinito, lo cual rompe todo el cálculo.\n",
        "\n",
        "La solución que aplicamos es restar el máximo de cada fila antes de calcular las exponenciales:\n",
        "```python\n",
        "Z_stable = Z - Z.max(axis=1, keepdims=True)\n",
        "P = np.exp(Z_stable) / np.exp(Z_stable).sum(axis=1, keepdims=True)\n",
        "```\n",
        "\n",
        "Esto funciona porque el softmax es invariante a traslaciones: si le restas una constante a todos los scores de una fila, las probabilidades resultantes son exactamente las mismas. La diferencia es que ahora el valor máximo es 0, entonces los exponenciales van desde $\\exp(-\\text{algo})$ hasta $\\exp(0) = 1$, que son valores perfectamente manejables.\n",
        "\n",
        "También agregamos otras medidas de seguridad: recortamos los valores con `np.clip(Z, -500, 500)` antes de exponenciar, y sumamos un epsilon pequeño ($10^{-12}$) cuando calculamos logaritmos para evitar `log(0) = -inf`.\n",
        "\n",
        "### ¿Cuándo dan resultados diferentes OvA y Multinomial?\n",
        "\n",
        "En nuestros experimentos con el dataset Wine, tanto OvA como multinomial alcanzaron 100% de accuracy en el conjunto de prueba. Esto tiene sentido porque las tres clases de vino están bastante bien separadas químicamente. Cuando visualizamos las matrices de confusión, ambos métodos clasificaron perfectamente las 54 muestras del test set.\n",
        "\n",
        "Sin embargo, esto no siempre pasa. Los métodos divergen más cuando:\n",
        "\n",
        "1. **Las clases están correlacionadas**: Si tenemos clases que se parecen mucho entre sí, el entrenamiento conjunto del multinomial ayuda porque modela la competencia entre clases. OvA trata cada clasificación de forma independiente y puede tener problemas de calibración.\n",
        "\n",
        "2. **Hay desbalance de clases**: En OvA, si una clase tiene muy pocas muestras, el clasificador binario para esa clase ve un gran desbalance (clase minoritaria vs. todas las demás). El multinomial maneja esto mejor porque todas las clases compiten juntas durante el entrenamiento.\n",
        "\n",
        "3. **Queremos probabilidades calibradas**: En OvA, la suma de probabilidades $p_1(x) + p_2(x) + p_3(x)$ puede ser 0.8 o 1.3 o cualquier cosa. En softmax, siempre es exactamente 1.0 por diseño. Esto importa si vamos a usar las probabilidades para tomar decisiones (no solo la clase predicha).\n",
        "\n",
        "En el dataset Heart Disease (Parte A), nuestro modelo from-scratch alcanzó 84.62% de accuracy y el sklearn alcanzó 86.81%. La matriz de confusión mostró 42 verdaderos negativos, 7 falsos positivos, 7 falsos negativos y 35 verdaderos positivos. El modelo funciona bien pero tiene más errores con los casos positivos (enfermedad), probablemente porque esos casos son más variables.\n",
        "\n",
        "### Observaciones prácticas\n",
        "\n",
        "Algunas cosas que aprendimos durante la implementación:\n",
        "\n",
        "- **Estandarización es crucial**: Sin estandarizar las features, la convergencia era muy lenta o no convergía. Usar z-score (restar media, dividir por desviación) hizo que todo funcionara mucho mejor.\n",
        "\n",
        "- **Learning rate requiere experimentación**: Con lr=0.5, la convergencia era rápida pero un poco ruidosa. Con lr=0.05, era más suave pero tomaba más iteraciones. No hay una respuesta única, depende del dataset.\n",
        "\n",
        "- **Monitorear la pérdida es fundamental**: Graficar la curva de pérdida nos ayudó a detectar cuando algo andaba mal. Si la pérdida oscila o aumenta, algo está mal (learning rate muy alto, bug en el código, etc.).\n",
        "\n",
        "- **Regularización L2 ayuda**: Aunque no la usamos mucho en estos experimentos, agregar un término L2 pequeño en la pérdida puede prevenir overfitting y estabilizar el entrenamiento.\n",
        "\n",
        "### Conclusión\n",
        "\n",
        "Los tres métodos funcionaron bien en nuestros datasets. Para problemas simples como Wine (clases bien separadas), no hay mucha diferencia práctica. Para problemas más complejos, el multinomial probablemente sea mejor opción si nos importa la calibración de probabilidades o hay muchas clases correlacionadas. OvA tiene la ventaja de ser más simple de implementar y paralelizable (cada clasificador se entrena independientemente).\n",
        "\n",
        "Lo más importante que aprendimos es que entender cómo funcionan estos algoritmos \"por dentro\" nos ayuda a debuggear problemas y elegir el método correcto para cada situación."
      ],
      "metadata": {
        "id": "3vzNC5g4IAG3"
      }
    }
  ]
}